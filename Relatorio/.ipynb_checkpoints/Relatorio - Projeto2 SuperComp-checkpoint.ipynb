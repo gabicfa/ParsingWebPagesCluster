{
 "cells": [
  {
   "cell_type": "markdown",
   "metadata": {},
   "source": [
    "# Projeto 3 – Parsing web em cluster\n",
    "## Super Computação - 2018/2\n",
    "### Gabriela Almeida"
   ]
  },
  {
   "cell_type": "markdown",
   "metadata": {},
   "source": [
    "Para o terceiro projeto de super computação expandiu-se o trabalho feito no projeto 2 para rodar em um cluster de máquinas na AWS. O segundo projeto de super computação trabalhou-se com um problema em que concorrência tinha um papel fundamental na obtenção de bom desempenho: download e análise de páginas web. Criou-se um crawler que identifica páginas de produtos em um site de e-commerce e extrai as informações básicas dos produtos. Alguns exemplos são as categorias do site da Magazine Luiza como as seguinte: [DVD Player](https://www.magazineluiza.com.br/dvd-player/tv-e-video/s/et/tvdb/) e [Controle Remoto](https://www.magazineluiza.com.br/controle-remoto/tv-e-video/s/et/cmrt/)."
   ]
  },
  {
   "cell_type": "markdown",
   "metadata": {},
   "source": [
    "Para demonstra como a concorrência tem um papel fundamental nesse tipo de problema, esse relatório tem como objetivo apontar a diferença de desempenho entre um crawler sequêncial e um paralelo (usando threads) e um distribuídi (usando processos)."
   ]
  },
  {
   "cell_type": "markdown",
   "metadata": {},
   "source": [
    "## Descrição e Implementação do problema"
   ]
  },
  {
   "cell_type": "markdown",
   "metadata": {},
   "source": [
    "### Modelo sequencial"
   ]
  },
  {
   "cell_type": "markdown",
   "metadata": {},
   "source": [
    "A implementação do modelo sequencial foi feita da seguinte forma: dada uma página de exibição de produto, o web crawler extrai as seguintes informações"
   ]
  },
  {
   "cell_type": "markdown",
   "metadata": {},
   "source": [
    "    1. nome do produto\n",
    "    2. descrição do produto\n",
    "    3. url da foto do produto\n",
    "    4. preço à vista \n",
    "    5. preço parcelado\n",
    "    6. categoria do produto\n",
    "    7. url da página de axibição"
   ]
  },
  {
   "cell_type": "markdown",
   "metadata": {},
   "source": [
    "A identificação de páginas de produto é feita a partir de sua categoria, ou seja, o crawler desenvolvido é apontado para uma página com os produtos de uma categoria, como os exemplificados anteriormente, e ele consegue obter as páginas de produto, lindando com possíveis paginação da listagem.\n",
    "\n",
    "Após a compilação do programa, explicado no README, o programa é executado na linha de comando como:"
   ]
  },
  {
   "cell_type": "markdown",
   "metadata": {},
   "source": [
    "    ./crawlerSEQ url_da_listagem_por_categoria"
   ]
  },
  {
   "cell_type": "markdown",
   "metadata": {},
   "source": [
    "A partir dessa url disponibilizada, o programa faz o download do conteúdo html dessa página, usando a biblioteca _curl_: "
   ]
  },
  {
   "cell_type": "raw",
   "metadata": {},
   "source": [
    "#include <curl/curl.h>\n",
    "#include <curl/easy.h>\n",
    "#include <string>\n",
    "\n",
    "using namespace std;\n",
    "\n",
    "//função auxiliar para a funcao \"download\"\n",
    "size_t WriteCallback(void *contents, size_t size, size_t nmemb, void *userp)\n",
    "{\n",
    "    ((std::string*)userp)->append((char*)contents, size * nmemb);\n",
    "    return size * nmemb;\n",
    "}\n",
    "\n",
    "//Faz o download de uma pagina web a partir de sua url e retorna o seu conteúdo html em formato de string\n",
    "string download(string url) {\n",
    "    CURL *curl;\n",
    "    string readBuffer;\n",
    "\n",
    "    curl = curl_easy_init();\n",
    "    if(curl) {\n",
    "        curl_easy_setopt(curl, CURLOPT_URL, url.c_str());\n",
    "        curl_easy_setopt(curl, CURLOPT_FOLLOWLOCATION, 1L);\n",
    "        curl_easy_setopt(curl, CURLOPT_TRANSFERTEXT, 1L);\n",
    "        curl_easy_setopt(curl, CURLOPT_WRITEFUNCTION, WriteCallback);\n",
    "        curl_easy_setopt(curl, CURLOPT_WRITEDATA, &readBuffer);\n",
    "        curl_easy_perform(curl);\n",
    "        curl_easy_cleanup(curl);\n",
    "    }\n",
    "    return readBuffer;\n",
    "}"
   ]
  },
  {
   "cell_type": "markdown",
   "metadata": {},
   "source": [
    "Com o html da página de categoria disponível, é possível adquirir as urls dos produtos presentes nela e a da página seguinte a ela. Para fazer isso, usou-se o regex da biblioteca boost. Essa ferramenta se baseia em expressões regulares para identificação de strings."
   ]
  },
  {
   "cell_type": "raw",
   "metadata": {},
   "source": [
    "#include <boost/regex.hpp>\n",
    "\n",
    "using namespace std;\n",
    "using namespace boost;\n",
    "\n",
    "//Procura em uma string de entrada str uma string ditada pelo regex reg e retorna os matches, de acordo com o index desejado, pelo vetor result\n",
    "void findMatches(string str, regex reg, vector<string>& result, int index){\n",
    "    smatch matches;\n",
    "    while(regex_search(str, matches, reg)){\n",
    "        //caso exista um match\n",
    "        if(matches.size()> 0){\n",
    "            result.push_back(matches[index]);\n",
    "            str = matches.suffix().str(); \n",
    "        }\n",
    "    }\n",
    "}\n",
    "\n",
    "//Busca o total de páginas de produtos daquela categoria a partir da primeira página page\n",
    "int totalPages(string page){\n",
    "    vector<string> lastPage;\n",
    "    regex numPages(\"\\\"lastPage\\\":([^,]+)\");\n",
    "    findMatches(page, numPages, lastPage, 1);\n",
    "    int totalPages = stoi(lastPage[0]);\n",
    "    return totalPages;\n",
    "}\n",
    "\n",
    "//Dado uma página de produtos page, o total de página e o número da página atual, procura as urls dos produtos presentes nela e a url para a próxima página\n",
    "vector<string> findMatchesPages(string page, int totalPages, int numPag){\n",
    "    vector<string> urlsProducts;\n",
    "    vector<string> lastPage;\n",
    "\n",
    "    regex href(\"name=\\\"linkToProduct\\\" href=\\\"([^\\\"]+)\");\n",
    "    findMatches(page, href, urlsProducts, 1);\n",
    "\n",
    "    if(numPag != totalPages){\n",
    "        regex nextPage(\"<link rel=\\\"next\\\" href=\\\"([^\\\"]+)\");\n",
    "        findMatches(page, nextPage, lastPage, 1);\n",
    "        if(lastPage.size()>0){\n",
    "            lastPage[0] = \"https://www.magazineluiza.com.br\"+lastPage[0];\n",
    "            urlsProducts.push_back(lastPage[0]);\n",
    "        }\n",
    "        return urlsProducts;\n",
    "    }\n",
    "    //Caso seja a última página, não tem próxima página\n",
    "    else{\n",
    "        urlsProducts.push_back(\"none\");\n",
    "        return urlsProducts;\n",
    "    }\n",
    "}"
   ]
  },
  {
   "cell_type": "markdown",
   "metadata": {},
   "source": [
    "Sendo possível adquirir todas as urls das páginas de produtos da categoria ,além das url dos produtos dessas páginas, então é possível fazer o download das páginas de todos os produtos e obter as informações desejadas."
   ]
  },
  {
   "cell_type": "markdown",
   "metadata": {},
   "source": [
    "O resultado do programa é escrito na saída padrão no formato json. Cada produto é um objeto com os seguintes campos:"
   ]
  },
  {
   "cell_type": "markdown",
   "metadata": {},
   "source": [
    "    {\n",
    "        \"nome\": \"\",\n",
    "        \"descricao\": \"\",\n",
    "        \"foto\": \"\",\n",
    "        \"preco: 0,\n",
    "        \"preco_parcelado\": 0,\n",
    "        \"preco_num_parcelas\": 0,\n",
    "        \"categoria\": \"\",\n",
    "        \"url\": \"\"\"\n",
    "    }"
   ]
  },
  {
   "cell_type": "raw",
   "metadata": {},
   "source": [
    "//A partir da página de produto page é possivel extrair as informações necessárias, a url do produto já é informação adquirida anteriormente\n",
    "\n",
    "string collectProduct(string page, string url){\n",
    "    vector<string> buffer;\n",
    "    string productName;\n",
    "    string productDescription;\n",
    "    string productImage;\n",
    "    string productPrice;\n",
    "    string precoParcelado;\n",
    "    string numeroParcelas;\n",
    "    string productCategory;\n",
    "\n",
    "    regex name (\"<h1 class=\\\"header-product__title\\\" itemprop=\\\"name\\\">([^<]+)\");\n",
    "    findMatches(page, name, buffer, 1);\n",
    "    if(buffer.size()>0){\n",
    "        productName = buffer[0];\n",
    "    }\n",
    "    else{\n",
    "        productName = \" \";\n",
    "    } \n",
    "\n",
    "    buffer.clear();\n",
    "    regex desc(\"<h2 class=\\\"description__product-title\\\">([^<]+)</h2>    <p class=\\\"description__text\\\"></p>([^<]+)\");\n",
    "    findMatches(page, desc, buffer, 2);\n",
    "    if(buffer.size()>0){\n",
    "        productDescription = buffer[0];\n",
    "    }\n",
    "    else{\n",
    "        productDescription = \" \";\n",
    "    } \n",
    "\n",
    "    buffer.clear();\n",
    "    regex image(\"showcase-product__big-img js-showcase-big-img\\\" src=\\\"(https[^\\\"]+)\");\n",
    "    findMatches(page, image, buffer, 1);\n",
    "    if(buffer.size()>0){\n",
    "        productImage = buffer[0];\n",
    "    }\n",
    "    else{\n",
    "        productImage = \" \";\n",
    "    } \n",
    "\n",
    "    buffer.clear();\n",
    "    regex price(\"price-template__text[^>]+>([^<]+)</span>\");\n",
    "    findMatches(page, price, buffer, 1);\n",
    "    if(buffer.size()>0){\n",
    "        productPrice = buffer[0];\n",
    "    }\n",
    "    else{\n",
    "        productPrice = \"0\";\n",
    "    } \n",
    "    \n",
    "    buffer.clear();\n",
    "    regex parcelado(\"installmentAmount\\\": \\\" ([^\\\"]+)\");\n",
    "    findMatches(page, parcelado, buffer, 1);\n",
    "    if(buffer.size()>0){\n",
    "        precoParcelado = buffer[0];\n",
    "    }\n",
    "    else{\n",
    "        precoParcelado = \"0\";\n",
    "    } \n",
    "\n",
    "    buffer.clear();\n",
    "    regex numparcelas(\"installmentQuantity\\\": \\\"([^\\\"]+)\");\n",
    "    findMatches(page, numparcelas, buffer, 1);\n",
    "    if(buffer.size()>0){\n",
    "        numeroParcelas = buffer[0];\n",
    "    }\n",
    "    else{\n",
    "        numeroParcelas = \"0\";\n",
    "    } \n",
    "\n",
    "    buffer.clear();\n",
    "    regex category(\"itemprop=\\\"item\\\"> ([^>]+)</a>  </li>  </ul>\");\n",
    "    findMatches(page, category, buffer, 1);\n",
    "    if(buffer.size()>0){\n",
    "        productCategory = buffer[0];\n",
    "    }\n",
    "    else{\n",
    "        productCategory = \" \";\n",
    "    }\n",
    "\n",
    "    string out = \n",
    "    \"  {\\n\"\n",
    "    \"    \\\"nome\\\" : \\\"\" + productName +\"\\\",\\n\"\n",
    "    \"    \\\"descricao\\\" : \\\"\" + productDescription +\"\\\",\\n\"\n",
    "    \"    \\\"foto\\\" : \\\"\" + productImage +\"\\\",\\n\"\n",
    "    \"    \\\"preco\\\" : \\\"\" + productPrice +\"\\\",\\n\"\n",
    "    \"    \\\"preco_parcelado\\\" : \\\"\" + precoParcelado +\"\\\",\\n\"\n",
    "    \"    \\\"preco_num_parcelas\\\" : \\\"\" + numeroParcelas +\"\\\",\\n\"\n",
    "    \"    \\\"categoria\\\" : \\\"\" + productCategory +\"\\\",\\n\"\n",
    "    \"    \\\"url\\\" : \\\"\" + url +\"\\\",\\n\"\n",
    "    \"  },\\n\";\n",
    "\n",
    "    return out;\n",
    "}"
   ]
  },
  {
   "cell_type": "markdown",
   "metadata": {},
   "source": [
    "### Modelo paralelo"
   ]
  },
  {
   "cell_type": "markdown",
   "metadata": {},
   "source": [
    "A implementação do modelo paralelo possui uma lógica parecida com a do sequencial. Assim como o modelo anterior, é feito download da página com os produtos, são identificadas as urls dos produtos presentes nela e a url da página seguinte, é feito o download das paginas dos produtos, extraídas as informações necessárias e após a análise de todos os produtos faz-se o mesmo processo com a página seguinte.\n",
    "\n",
    "No entanto essa implementação é dada em paralelismo por tarefas, ou seja, é preciso sincronizar tarefas que dependem parcialmente umas das outras (parte de uma tarefa depende de um resultado de outra quanto o restante é independente). Ao exercutar as partes independente de maneira paralela pode-se obter ganhos de desempenho consideráveis em processos longos."
   ]
  },
  {
   "cell_type": "markdown",
   "metadata": {},
   "source": [
    "O modelo paralelo por tarefas foi estruturado da seguinte forma:"
   ]
  },
  {
   "cell_type": "markdown",
   "metadata": {},
   "source": [
    "![alt text](Esquema1.png \"Title\")"
   ]
  },
  {
   "cell_type": "markdown",
   "metadata": {},
   "source": [
    "É possível perceber no esquema a cima que as threads compartilham de alguns recursos fazendo com que elas sejam interdependentes.\n",
    "\n",
    "A thread prodLinkCollectorThread é encarregada de fazer o download das páginas com os produtos, identificar as urls dos produtos presentes nelas e colocá-las na listofUrls. Além disso essa thread é encarregada de adquirir a url da pagina com produtos seguinte e fazer o mesmo processo, sucessivamente, até a última página dessa categoria. Desse modo, essa thread terá adicionado à listofUrls as urls de todos os produtos disponíveis naquela categoria.\n",
    "A segunda thread, prodPageCollectorThread, precisa recolher uma url da listofUrls, fazer o download dela e adicionar-la à listofPages. \n",
    "Já prodCollectorThread coleta uma pagina de listofPages, coleta as informações desejadas e as adiciona a uma string global \"finalJSON\"."
   ]
  },
  {
   "cell_type": "markdown",
   "metadata": {},
   "source": [
    "Levando em consideração essa estruturação, é possível definir multiplas threads do tipo prodPageCollectorThread fazendo com que elas rodem em paralelo.O mesmo pode acontecer com prodCollectorThread."
   ]
  },
  {
   "cell_type": "markdown",
   "metadata": {},
   "source": [
    "![alt text](Esquema2.png \"Title\")"
   ]
  },
  {
   "cell_type": "markdown",
   "metadata": {},
   "source": [
    "Como essas threads compartilham algumas estruturas, o uso de semáforos é fundamental para coordenar o acesso de cada thread a elas. Desse modo foram definidos os seguintes semáforos:"
   ]
  },
  {
   "cell_type": "raw",
   "metadata": {},
   "source": [
    "Semaphore accessListofUrls(1);\n",
    "Semaphore accessListofPages(1);\n",
    "Semaphore accessJSON(1);\n",
    "Semaphore listofUrlCount(0);\n",
    "Semaphore listofPagesCount(0);"
   ]
  },
  {
   "cell_type": "markdown",
   "metadata": {},
   "source": [
    "O primeiro controla o acesso à listofUrls, o segundo o acesso à listofPages e o tercero o acesso à string global \"finalJSON\". Já os dois últimos valem como contadores de quantidade de elementos em listofUrls e listofPages respectivamente."
   ]
  },
  {
   "cell_type": "markdown",
   "metadata": {},
   "source": [
    "Assim como no sequencial, após a compilação do programa, explicado no README, o programa é executado na linha de comando como:"
   ]
  },
  {
   "cell_type": "markdown",
   "metadata": {},
   "source": [
    "    ./crawlerPAR url_da_listagem_por_categoria numProducers numConsumers"
   ]
  },
  {
   "cell_type": "markdown",
   "metadata": {},
   "source": [
    "No qual numProducers é o número de threads do tipo prodPageCollectorThread e numConsumers é o numero de threads do tipo prodCollectorThread.\n",
    "\n",
    "As threads são definidas da seguinte forma:"
   ]
  },
  {
   "cell_type": "raw",
   "metadata": {},
   "source": [
    "string url = argv[1];\n",
    "int numProducers = atoi(argv[2]);\n",
    "int numConsumers = atoi(argv[3]);\n",
    "\n",
    "thread prodPageCollectorThread[numProducers];\n",
    "thread prodCollectorThread[numConsumers];\n",
    "\n",
    "thread prodLinkCollectorThread(produceUrls, std::ref(listofUrls), std::ref(accessListofUrls),std::ref(listofUrlCount), url, std::ref(noMoreUrls));\n",
    "\n",
    "for(int p=0; p<numProducers; p++){\n",
    "    prodPageCollectorThread[p] = thread(producePages, std::ref(listofUrls), std::ref(accessListofUrls), std::ref(listofUrlCount), std::ref(listofPages), std::ref(accessListofPages), std::ref(listofPagesCount), std::ref(noMoreUrls), std::ref(noMorePages), numProducers);\n",
    "}\n",
    "    \n",
    "for(int c=0; c<numConsumers; c++){\n",
    "    prodCollectorThread[c] = thread(consumePages,  std::ref(listofPages), std::ref(accessListofPages), std::ref(listofPagesCount), std::ref(accessJSON), std::ref(finalJSON), std::ref(noMorePages),numConsumers);\n",
    "    }\n",
    "\n",
    "prodLinkCollectorThread.join();\n",
    "\n",
    "for(int p=0; p<numProducers; p++){\n",
    "    prodPageCollectorThread[p].join();\n",
    "}\n",
    "\n",
    "for(int c=0; c<numConsumers; c++){\n",
    "    prodCollectorThread[c].join();\n",
    "}"
   ]
  },
  {
   "cell_type": "raw",
   "metadata": {},
   "source": [
    "/*FUNÇÃO de prodLinkCollectorThread - Faz o download das páginas com os produtos, identifica as urls dos produtos presentes nelas e coloca-as na listofUrls. Além disso adquire a url da pagina com produtos seguinte e fazer o mesmo processo, sucessivamente, até a última página dessa categoria.*/\n",
    "void produceUrls(list<string>& listofUrls, Semaphore& accessListofUrls, Semaphore& listofUrlCount, string url, bool& noMoreUrls){\n",
    "    list<string> urlsPage;\n",
    "    string nextPageUrl;\n",
    "    \n",
    "    string page = download(url);\n",
    "    int total = totalPages(page);\n",
    "\n",
    "    for(int p=1; p<=total; p++){\n",
    "        urlsPage = findMatchesPages(page, total, p);\n",
    "        nextPageUrl = urlsPage.back();\n",
    "        urlsPage.pop_back();\n",
    "        accessListofUrls.acquire();\n",
    "            for(auto u = urlsPage.begin(); u != urlsPage.end(); ++u){\n",
    "                listofUrls.push_back(*u);\n",
    "                listofUrlCount.release();\n",
    "            }\n",
    "        accessListofUrls.release();\n",
    "        \n",
    "        page = download(nextPageUrl);\n",
    "    }\n",
    "    noMoreUrls = true;\n",
    "}\n",
    "\n",
    "/*FUNÇÃO de prodPageCollectorThread - Recolhe uma url da listofUrls, faz o download dela e a adicionar à listofPages*/\n",
    "void producePages(list<string>&listofUrls, Semaphore& accessListofUrls, Semaphore& listofUrlCount, list<string>&listofPages, Semaphore& accessListofPages, Semaphore& listofPagesCount, bool& noMoreUrls, bool& noMorePages, int numProducers){\n",
    "    string currentProductUrl;\n",
    "    string currentProductPage;\n",
    "    bool end = false;\n",
    "    while(!end){\n",
    "        listofUrlCount.acquire();\n",
    "        accessListofUrls.acquire();\n",
    "            if(noMoreUrls && listofUrls.empty()){\n",
    "                end = true;\n",
    "            }\n",
    "            else{\n",
    "                currentProductUrl = listofUrls.front();\n",
    "                listofUrls.pop_front();\n",
    "                if(noMoreUrls && listofUrls.empty()){\n",
    "                    for(int pt=0; pt< numProducers; pt++){\n",
    "                        listofUrlCount.release();\n",
    "                    }\n",
    "                }\n",
    "            }\n",
    "        accessListofUrls.release();\n",
    "        \n",
    "        urrentProductPage = download(currentProductUrl);\n",
    "        \n",
    "        accessListofPages.acquire();\n",
    "            listofPages.push_back(currentProductPage);\n",
    "            listofPagesCount.release();\n",
    "        accessListofPages.release();\n",
    "    }\n",
    "    noMorePages = true;\n",
    "}\n",
    "\n",
    "/*FUNÇÃO de prodCollectorThread - coleta uma pagina de listofPages, coleta as informações desejadas e as adiciona a string global \"finalJSON\"*/\n",
    "void consumePages(list<string>& listofPages, Semaphore& accessListofPages, Semaphore& listofPagesCount, Semaphore& accessJSON, const string &finalJSON, bool& noMorePages, int numConsumers){\n",
    "    string currentProductPage;\n",
    "    string jsonProduct;\n",
    "    string* tempJson = const_cast<string*>(&finalJSON);\n",
    "    bool end = false;\n",
    "\n",
    "    while(!end){\n",
    "        listofPagesCount.acquire();\n",
    "        accessListofPages.acquire();\n",
    "            if(noMorePages && listofPages.empty()){\n",
    "                end = true;\n",
    "            }\n",
    "            else{\n",
    "                currentProductPage = listofPages.front();\n",
    "                listofPages.pop_front();\n",
    "                if(noMorePages && listofPages.empty()){\n",
    "                    for(int ct=0; ct< numConsumers; ct++){\n",
    "                        listofPagesCount.release();\n",
    "                    }\n",
    "                }\n",
    "            };\n",
    "        accessListofPages.release();\n",
    "        \n",
    "        jsonProduct = collectProduct(currentProductPage);\n",
    "        \n",
    "        accessJSON.acquire();\n",
    "            *tempJson = finalJSON + jsonProduct;\n",
    "        accessJSON.release();\n",
    "    }\n",
    "}"
   ]
  },
  {
   "cell_type": "markdown",
   "metadata": {},
   "source": [
    "## Análise de desempenho"
   ]
  },
  {
   "cell_type": "markdown",
   "metadata": {},
   "source": [
    "Como dito anteriormente, um dos objetivos desse projeto é comparar o desempenhos entre o crawler paralelo e o sequencial. Para fazer essa comparação foi preciso compilar o program usando as flags correntas. Para o modelo paralelo as seguintes flags foram usadas:"
   ]
  },
  {
   "cell_type": "markdown",
   "metadata": {},
   "source": [
    "    -lpthread -O2"
   ]
  },
  {
   "cell_type": "markdown",
   "metadata": {},
   "source": [
    "Para a sequencial a seguinte flag:"
   ]
  },
  {
   "cell_type": "markdown",
   "metadata": {},
   "source": [
    "    -o2"
   ]
  },
  {
   "cell_type": "markdown",
   "metadata": {},
   "source": [
    "Para fazer essa análise de desempenho, usou-se uma máquina com as seguintes especificações:"
   ]
  },
  {
   "cell_type": "markdown",
   "metadata": {},
   "source": [
    "    Nome do Modelo:\tMacBook Pro\n",
    "    Identificador do Modelo:\tMacBookPro14,2\n",
    "    Nome do Processador:\tIntel Core i5\n",
    "    Velocidade do Processador:\t3,1 GHz\n",
    "    Número de Processadores:\t1\n",
    "    Número Total de Núcleos:\t2\n",
    "    Cache L2 (por Núcleo):\t256 KB\n",
    "    Cache de L3:\t4 MB\n",
    "    Memória:\t8 GB"
   ]
  },
  {
   "cell_type": "markdown",
   "metadata": {},
   "source": [
    "Para obter os tempos de simulação é preciso executar os seguintes comandos:"
   ]
  },
  {
   "cell_type": "markdown",
   "metadata": {},
   "source": [
    "    cd build\n",
    "    cmake ..\n",
    "    python run.py"
   ]
  },
  {
   "cell_type": "markdown",
   "metadata": {},
   "source": [
    "Esse programa compila os arquivos com cmake e gera 2 executaveis diferentes: crawlerSEQ e crawlerPAR. E depois is executa com os X diferentes links de categorias de entradas diferentes, sendo eles: "
   ]
  },
  {
   "cell_type": "markdown",
   "metadata": {},
   "source": [
    "\"https://www.magazineluiza.com.br/controle-remoto/tv-e-video/s/et/cmrt/\" \n",
    "\"https://www.magazineluiza.com.br/dvd-player/tv-e-video/s/et/tvdb/\"\n",
    "\"https://www.magazineluiza.com.br/multifuncional-jato-de-tinta/informatica/s/in/majt/\""
   ]
  },
  {
   "cell_type": "markdown",
   "metadata": {},
   "source": [
    "O baixo número de categorias e de produtos análisados, e, consequentemente, a análise não efetiva da situação, se deu por problemas internos do site magazineluiza. Tentou-se buscar entender porque em certas categorias o código a cima funcionava e e outra não, porém não foram achadas respostas."
   ]
  },
  {
   "cell_type": "markdown",
   "metadata": {},
   "source": [
    "Com o executável crawlerPAR os links são executados de 3 maneiras diferentes, uma delas com 5 threads producers e 5 consumers, outra com 5 threads producers e 2 consumers e outra com 2 producera e 5 consumers."
   ]
  },
  {
   "cell_type": "markdown",
   "metadata": {},
   "source": [
    "Por fim, é escrito um arquivo de saída analysis.out com os valores dos tempos de cada simulacao para cada executável, em ordem. Foram medidos o tempo ocioso que é o tempo total gasto esperando o download de páginas web, o tempo médio por produto que é o tempo total de execução do programa dividido pelo total de produtos analisados, e tempo total que é o tempo total de execução do do programa."
   ]
  },
  {
   "cell_type": "code",
   "execution_count": 37,
   "metadata": {},
   "outputs": [],
   "source": [
    "t_num_prod=[54,88,145]\n",
    "t_ocioso_seq=[9.5893,15.6777,25.5338]\n",
    "t_medProd_seq=[0.188706,0.189784,0.187484]\n",
    "t_total_seq=[10.1901,16.701,27.1852]\n",
    "t_ocioso_par_5_5=[12.7195,18.5626,31.7715]\n",
    "t_medProd_par_5_5=[0.0517085,0.0450691,0.0452363]\n",
    "t_total_par_5_5=[2.79226,3.96608,6.55927]\n",
    "t_ocioso_par_5_2=[12.416,21.272,71.3491]\n",
    "t_medProd_par_5_2=[0.0522239,0.0510794,0.120012]\n",
    "t_total_par_5_2=[2.82009,4.49499,17.4017]\n",
    "t_ocioso_par_2_5=[10.47,17.9468,28.5384]\n",
    "t_medProd_par_2_5=[0.0989919,0.101222,0.0962794]\n",
    "t_total_par_2_5=[5.34556,8.90756,13.9605]"
   ]
  },
  {
   "cell_type": "markdown",
   "metadata": {},
   "source": [
    "Com esses vetores é possível fazer uma análise visual do desempenho, como é mostrado abaixo:"
   ]
  },
  {
   "cell_type": "code",
   "execution_count": 38,
   "metadata": {},
   "outputs": [
    {
     "data": {
      "image/png": "[encoded data removed]",
      "text/plain": [
       "<Figure size 432x288 with 1 Axes>"
      ]
     },
     "metadata": {},
     "output_type": "display_data"
    }
   ],
   "source": [
    "import matplotlib.pyplot as plt\n",
    "\n",
    "seq, = plt.plot(t_num_prod, t_ocioso_seq, 'ro-', label='sequencial')\n",
    "par55, = plt.plot(t_num_prod, t_ocioso_par_5_5, 'bo-', label='paralelo 5p 5c')\n",
    "par52, = plt.plot(t_num_prod, t_ocioso_par_5_2, 'co-', label= 'paralelo 5p 2c')\n",
    "par25, = plt.plot(t_num_prod, t_ocioso_par_2_5, 'go-', label= 'paralelo 2p 5c')\n",
    "plt.xlabel('Quantidade de produtos')\n",
    "plt.ylabel('Tempo Ocioso de simulação')\n",
    "plt.title(\"Tempo Ocioso x Quantidade de Produtos\")\n",
    "plt.legend(handles=[seq, par55, par52, par25])\n",
    "plt.show()"
   ]
  },
  {
   "cell_type": "code",
   "execution_count": 39,
   "metadata": {
    "scrolled": true
   },
   "outputs": [
    {
     "data": {
      "image/png": "[encoded data removed]",
      "text/plain": [
       "<Figure size 432x288 with 1 Axes>"
      ]
     },
     "metadata": {},
     "output_type": "display_data"
    }
   ],
   "source": [
    "import matplotlib.pyplot as plt\n",
    "\n",
    "seq, = plt.plot(t_num_prod, t_medProd_seq, 'ro-', label='sequencial')\n",
    "par55, = plt.plot(t_num_prod, t_medProd_par_5_5, 'bo-', label='paralelo 5p 5c')\n",
    "par52, = plt.plot(t_num_prod, t_medProd_par_5_2, 'co-', label= 'paralelo 5p 2c')\n",
    "par25, = plt.plot(t_num_prod, t_medProd_par_2_5, 'go-', label= 'paralelo 2p 5c')\n",
    "plt.xlabel('Quantidade de produtos')\n",
    "plt.ylabel('Tempo Médio por Produto')\n",
    "plt.title(\"Tempo Médio por Produto x Quantidade de Produtos\")\n",
    "plt.legend(handles=[seq, par55, par52, par25])\n",
    "plt.show()"
   ]
  },
  {
   "cell_type": "code",
   "execution_count": 40,
   "metadata": {},
   "outputs": [
    {
     "data": {
      "image/png": "[encoded data removed]",
      "text/plain": [
       "<Figure size 432x288 with 1 Axes>"
      ]
     },
     "metadata": {},
     "output_type": "display_data"
    }
   ],
   "source": [
    "import matplotlib.pyplot as plt\n",
    "\n",
    "seq, = plt.plot(t_num_prod, t_total_seq, 'ro-', label='sequencial')\n",
    "par55, = plt.plot(t_num_prod, t_total_par_5_5, 'bo-', label='paralelo 5p 5c')\n",
    "par52, = plt.plot(t_num_prod, t_total_par_5_2, 'co-', label= 'paralelo 5p 2c')\n",
    "par25, = plt.plot(t_num_prod, t_total_par_2_5, 'go-', label= 'paralelo 2p 5c')\n",
    "plt.xlabel('Quantidade de produtos')\n",
    "plt.ylabel('Tempo Total de execucao')\n",
    "plt.title(\"Tempo Total de execucao x Quantidade de Produtos\")\n",
    "plt.legend(handles=[seq, par55, par52, par25])\n",
    "plt.show()"
   ]
  },
  {
   "cell_type": "code",
   "execution_count": 41,
   "metadata": {},
   "outputs": [
    {
     "name": "stdout",
     "output_type": "stream",
     "text": [
      "Média de ganho tempo ocioso de (paralelo 5 prod 5 cons) para seq= 0.8007202418745667\n",
      "Média de ganho tempo ocioso de (paralelo 5 prod 2 cons) para seq= 0.6224055157105401\n",
      "Média de ganho tempo ocioso de (paralelo 5 prod 5 cons) para (paralelo 2 prod 5 cons)= 0.8947219912051249\n"
     ]
    }
   ],
   "source": [
    "seq_par55_ocioso_media=0\n",
    "seq_par52_ocioso_media=0\n",
    "seq_par25_ocioso_media=0\n",
    "par52_par55_ocioso_media=0\n",
    "count =0\n",
    "\n",
    "for i in range (0, len(t_ocioso_seq)):\n",
    "    for i in range(0, len(t_ocioso_par_5_5)):\n",
    "        seq_par55_ocioso_media = seq_par55_ocioso_media + (t_ocioso_seq[i]/t_ocioso_par_5_5[i])\n",
    "        seq_par52_ocioso_media = seq_par52_ocioso_media + (t_ocioso_seq[i]/t_ocioso_par_5_2[i])\n",
    "        seq_par25_ocioso_media = seq_par25_ocioso_media + (t_ocioso_seq[i]/t_ocioso_par_2_5[i])\n",
    "        count+=1\n",
    "        \n",
    "print(\"Média de ganho tempo ocioso de (paralelo 5 prod 5 cons) para seq= \" + str(seq_par55_ocioso_media/count))\n",
    "print(\"Média de ganho tempo ocioso de (paralelo 5 prod 2 cons) para seq= \" + str(seq_par52_ocioso_media/count))\n",
    "print(\"Média de ganho tempo ocioso de (paralelo 5 prod 5 cons) para (paralelo 2 prod 5 cons)= \" + str(seq_par25_ocioso_media/count))"
   ]
  },
  {
   "cell_type": "code",
   "execution_count": 42,
   "metadata": {},
   "outputs": [
    {
     "name": "stdout",
     "output_type": "stream",
     "text": [
      "Média de ganho tempo medProd de (paralelo 5 prod 5 cons) para seq= 4.001641012450544\n",
      "Média de ganho tempo medProd de (paralelo 5 prod 2 cons) para seq= 2.963694642950434\n",
      "Média de ganho tempo medProd de (paralelo 5 prod 5 cons) para (paralelo 2 prod 5 cons)= 1.9094988203119543\n"
     ]
    }
   ],
   "source": [
    "seq_par55_medProd_media=0\n",
    "seq_par52_medProd_media=0\n",
    "seq_par25_medProd_media=0\n",
    "par52_par55_medProd_media=0\n",
    "count =0\n",
    "\n",
    "for i in range (0, len(t_medProd_seq)):\n",
    "    for i in range(0, len(t_medProd_par_5_5)):\n",
    "        seq_par55_medProd_media = seq_par55_medProd_media + (t_medProd_seq[i]/t_medProd_par_5_5[i])\n",
    "        seq_par52_medProd_media = seq_par52_medProd_media + (t_medProd_seq[i]/t_medProd_par_5_2[i])\n",
    "        seq_par25_medProd_media = seq_par25_medProd_media + (t_medProd_seq[i]/t_medProd_par_2_5[i])\n",
    "        count+=1\n",
    "        \n",
    "print(\"Média de ganho tempo medProd de (paralelo 5 prod 5 cons) para seq= \" + str(seq_par55_medProd_media/count))\n",
    "print(\"Média de ganho tempo medProd de (paralelo 5 prod 2 cons) para seq= \" + str(seq_par52_medProd_media/count))\n",
    "print(\"Média de ganho tempo medProd de (paralelo 5 prod 5 cons) para (paralelo 2 prod 5 cons)= \" + str(seq_par25_medProd_media/count))"
   ]
  },
  {
   "cell_type": "code",
   "execution_count": 43,
   "metadata": {},
   "outputs": [
    {
     "name": "stdout",
     "output_type": "stream",
     "text": [
      "Média de ganho tempo total de (paralelo 5 prod 5 cons) para seq= 4.001638314569431\n",
      "Média de ganho tempo total de (paralelo 5 prod 2 cons) para seq= 2.963693464284676\n",
      "Média de ganho tempo total de (paralelo 2 prod 5 cons) para (paralelo 2 prod 5 cons)= 1.9094973302531129\n"
     ]
    }
   ],
   "source": [
    "seq_par55_total_media=0\n",
    "seq_par52_total_media=0\n",
    "seq_par25_total_media=0\n",
    "par52_par55_total_media=0\n",
    "count =0\n",
    "\n",
    "for i in range (0, len(t_total_seq)):\n",
    "    for i in range(0, len(t_total_par_5_5)):\n",
    "        seq_par55_total_media = seq_par55_total_media + (t_total_seq[i]/t_total_par_5_5[i])\n",
    "        seq_par52_total_media = seq_par52_total_media + (t_total_seq[i]/t_total_par_5_2[i])\n",
    "        seq_par25_total_media = seq_par25_total_media + (t_total_seq[i]/t_total_par_2_5[i])\n",
    "        count+=1\n",
    "        \n",
    "print(\"Média de ganho tempo total de (paralelo 5 prod 5 cons) para seq= \" + str(seq_par55_total_media/count))\n",
    "print(\"Média de ganho tempo total de (paralelo 5 prod 2 cons) para seq= \" + str(seq_par52_total_media/count))\n",
    "print(\"Média de ganho tempo total de (paralelo 2 prod 5 cons) para (paralelo 2 prod 5 cons)= \" + str(seq_par25_total_media/count))"
   ]
  },
  {
   "cell_type": "markdown",
   "metadata": {},
   "source": [
    "Com as análises a cima é possível perceber que a estrutura paralela tem melhor performance em relação a sequencial. Isso acontece somente quando se é analisado o tempo total de execução do programa e quando existe um maior número ou igual de threads produtoras em ralação à consumidoras. "
   ]
  }
 ],
 "metadata": {
  "kernelspec": {
   "display_name": "Python 3",
   "language": "python",
   "name": "python3"
  },
  "language_info": {
   "codemirror_mode": {
    "name": "ipython",
    "version": 3
   },
   "file_extension": ".py",
   "mimetype": "text/x-python",
   "name": "python",
   "nbconvert_exporter": "python",
   "pygments_lexer": "ipython3",
   "version": "3.6.5"
  }
 },
 "nbformat": 4,
 "nbformat_minor": 2
}
