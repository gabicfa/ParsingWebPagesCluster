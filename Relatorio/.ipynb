{
 "cells": [
  {
   "cell_type": "markdown",
   "metadata": {},
   "source": [
    "# Projeto 3 – Parsing web em cluster\n",
    "## Super Computação - 2018/2\n",
    "### Gabriela Almeida"
   ]
  },
  {
   "cell_type": "markdown",
   "metadata": {},
   "source": [
    "Para o terceiro projeto de super computação expandiu-se o trabalho feito no projeto 2 para rodar em um cluster de máquinas na AWS. O segundo projeto de super computação trabalhou-se com um problema em que concorrência tinha um papel fundamental na obtenção de bom desempenho: download e análise de páginas web. Criou-se um crawler que identifica páginas de produtos em um site de e-commerce e extrai as informações básicas dos produtos. Alguns exemplos são as categorias do site da Magazine Luiza como as seguinte: [DVD Player](https://www.magazineluiza.com.br/dvd-player/tv-e-video/s/et/tvdb/) e [Controle Remoto](https://www.magazineluiza.com.br/controle-remoto/tv-e-video/s/et/cmrt/)."
   ]
  },
  {
   "cell_type": "markdown",
   "metadata": {},
   "source": [
    "Para demonstra como a concorrência tem um papel fundamental nesse tipo de problema, esse relatório tem como objetivo demostrar o desempenho de um crawler distribuido, organizado em processos, implementado em MPI em um cluster de máquinas na AWS. Esse relatório também apontará a diferença de desempenho entre um crawler sequêncial, um paralelo organizado em threads e esse distribuído."
   ]
  },
  {
   "cell_type": "markdown",
   "metadata": {},
   "source": [
    "## Descrição e Implementação do problema"
   ]
  },
  {
   "cell_type": "markdown",
   "metadata": {},
   "source": [
    "### Modelo sequencial"
   ]
  },
  {
   "cell_type": "markdown",
   "metadata": {},
   "source": [
    "A implementação do modelo sequencial foi feita da seguinte forma: dada uma página de exibição de produto, o web crawler extrai as seguintes informações"
   ]
  },
  {
   "cell_type": "markdown",
   "metadata": {},
   "source": [
    "    1. nome do produto\n",
    "    2. descrição do produto\n",
    "    3. url da foto do produto\n",
    "    4. preço à vista \n",
    "    5. preço parcelado\n",
    "    6. categoria do produto\n",
    "    7. url da página de axibição"
   ]
  },
  {
   "cell_type": "markdown",
   "metadata": {},
   "source": [
    "A identificação de páginas de produto é feita a partir de sua categoria, ou seja, o crawler desenvolvido é apontado para uma página com os produtos de uma categoria, como os exemplificados anteriormente, e ele consegue obter as páginas de produto, lindando com possíveis paginação da listagem.\n",
    "\n",
    "Após a compilação do programa, explicado no README, o programa é executado na linha de comando como:"
   ]
  },
  {
   "cell_type": "markdown",
   "metadata": {},
   "source": [
    "    ./crawlerSEQ url_da_listagem_por_categoria"
   ]
  },
  {
   "cell_type": "markdown",
   "metadata": {},
   "source": [
    "A partir dessa url disponibilizada, o programa faz o download do conteúdo html dessa página, usando a biblioteca _curl_: "
   ]
  },
  {
   "cell_type": "raw",
   "metadata": {},
   "source": [
    "#include <curl/curl.h>\n",
    "#include <curl/easy.h>\n",
    "#include <string>\n",
    "\n",
    "using namespace std;\n",
    "\n",
    "//função auxiliar para a funcao \"download\"\n",
    "size_t WriteCallback(void *contents, size_t size, size_t nmemb, void *userp)\n",
    "{\n",
    "    ((std::string*)userp)->append((char*)contents, size * nmemb);\n",
    "    return size * nmemb;\n",
    "}\n",
    "\n",
    "//Faz o download de uma pagina web a partir de sua url e retorna o seu conteúdo html em formato de string\n",
    "string download(string url) {\n",
    "    CURL *curl;\n",
    "    string readBuffer;\n",
    "\n",
    "    curl = curl_easy_init();\n",
    "    if(curl) {\n",
    "        curl_easy_setopt(curl, CURLOPT_URL, url.c_str());\n",
    "        curl_easy_setopt(curl, CURLOPT_FOLLOWLOCATION, 1L);\n",
    "        curl_easy_setopt(curl, CURLOPT_TRANSFERTEXT, 1L);\n",
    "        curl_easy_setopt(curl, CURLOPT_WRITEFUNCTION, WriteCallback);\n",
    "        curl_easy_setopt(curl, CURLOPT_WRITEDATA, &readBuffer);\n",
    "        curl_easy_perform(curl);\n",
    "        curl_easy_cleanup(curl);\n",
    "    }\n",
    "    return readBuffer;\n",
    "}"
   ]
  },
  {
   "cell_type": "markdown",
   "metadata": {},
   "source": [
    "Com o html da página de categoria disponível, é possível adquirir as urls dos produtos presentes nela e a da página seguinte a ela. Para fazer isso, usou-se o regex da biblioteca boost. Essa ferramenta se baseia em expressões regulares para identificação de strings."
   ]
  },
  {
   "cell_type": "raw",
   "metadata": {},
   "source": [
    "#include <boost/regex.hpp>\n",
    "\n",
    "using namespace std;\n",
    "using namespace boost;\n",
    "\n",
    "//Procura em uma string de entrada str uma string ditada pelo regex reg e retorna os matches, de acordo com o index desejado, pelo vetor result\n",
    "void findMatches(string str, regex reg, vector<string>& result, int index){\n",
    "    smatch matches;\n",
    "    while(regex_search(str, matches, reg)){\n",
    "        //caso exista um match\n",
    "        if(matches.size()> 0){\n",
    "            result.push_back(matches[index]);\n",
    "            str = matches.suffix().str(); \n",
    "        }\n",
    "    }\n",
    "}\n",
    "\n",
    "//Busca o total de páginas de produtos daquela categoria a partir da primeira página page\n",
    "int totalPages(string page){\n",
    "    vector<string> lastPage;\n",
    "    regex numPages(\"\\\"lastPage\\\":([^,]+)\");\n",
    "    findMatches(page, numPages, lastPage, 1);\n",
    "    int totalPages = stoi(lastPage[0]);\n",
    "    return totalPages;\n",
    "}\n",
    "\n",
    "//Dado uma página de produtos page, o total de página e o número da página atual, procura as urls dos produtos presentes nela e a url para a próxima página\n",
    "vector<string> findMatchesPages(string page, int totalPages, int numPag){\n",
    "    vector<string> urlsProducts;\n",
    "    vector<string> lastPage;\n",
    "\n",
    "    regex href(\"name=\\\"linkToProduct\\\" href=\\\"([^\\\"]+)\");\n",
    "    findMatches(page, href, urlsProducts, 1);\n",
    "\n",
    "    if(numPag != totalPages){\n",
    "        regex nextPage(\"<link rel=\\\"next\\\" href=\\\"([^\\\"]+)\");\n",
    "        findMatches(page, nextPage, lastPage, 1);\n",
    "        if(lastPage.size()>0){\n",
    "            lastPage[0] = \"https://www.magazineluiza.com.br\"+lastPage[0];\n",
    "            urlsProducts.push_back(lastPage[0]);\n",
    "        }\n",
    "        return urlsProducts;\n",
    "    }\n",
    "    //Caso seja a última página, não tem próxima página\n",
    "    else{\n",
    "        urlsProducts.push_back(\"none\");\n",
    "        return urlsProducts;\n",
    "    }\n",
    "}"
   ]
  },
  {
   "cell_type": "markdown",
   "metadata": {},
   "source": [
    "Sendo possível adquirir todas as urls das páginas de produtos da categoria ,além das url dos produtos dessas páginas, então é possível fazer o download das páginas de todos os produtos e obter as informações desejadas."
   ]
  },
  {
   "cell_type": "markdown",
   "metadata": {},
   "source": [
    "O resultado do programa é escrito na saída padrão no formato json. Cada produto é um objeto com os seguintes campos:"
   ]
  },
  {
   "cell_type": "markdown",
   "metadata": {},
   "source": [
    "    {\n",
    "        \"nome\": \"\",\n",
    "        \"descricao\": \"\",\n",
    "        \"foto\": \"\",\n",
    "        \"preco: 0,\n",
    "        \"preco_parcelado\": 0,\n",
    "        \"preco_num_parcelas\": 0,\n",
    "        \"categoria\": \"\",\n",
    "        \"url\": \"\"\"\n",
    "    }"
   ]
  },
  {
   "cell_type": "raw",
   "metadata": {},
   "source": [
    "//A partir da página de produto page é possivel extrair as informações necessárias, a url do produto já é informação adquirida anteriormente\n",
    "\n",
    "string collectProduct(string page, string url){\n",
    "    vector<string> buffer;\n",
    "    string productName;\n",
    "    string productDescription;\n",
    "    string productImage;\n",
    "    string productPrice;\n",
    "    string precoParcelado;\n",
    "    string numeroParcelas;\n",
    "    string productCategory;\n",
    "\n",
    "    regex name (\"<h1 class=\\\"header-product__title\\\" itemprop=\\\"name\\\">([^<]+)\");\n",
    "    findMatches(page, name, buffer, 1);\n",
    "    if(buffer.size()>0){\n",
    "        productName = buffer[0];\n",
    "    }\n",
    "    else{\n",
    "        productName = \" \";\n",
    "    } \n",
    "\n",
    "    buffer.clear();\n",
    "    regex desc(\"<h2 class=\\\"description__product-title\\\">([^<]+)</h2>    <p class=\\\"description__text\\\"></p>([^<]+)\");\n",
    "    findMatches(page, desc, buffer, 2);\n",
    "    if(buffer.size()>0){\n",
    "        productDescription = buffer[0];\n",
    "    }\n",
    "    else{\n",
    "        productDescription = \" \";\n",
    "    } \n",
    "\n",
    "    buffer.clear();\n",
    "    regex image(\"showcase-product__big-img js-showcase-big-img\\\" src=\\\"(https[^\\\"]+)\");\n",
    "    findMatches(page, image, buffer, 1);\n",
    "    if(buffer.size()>0){\n",
    "        productImage = buffer[0];\n",
    "    }\n",
    "    else{\n",
    "        productImage = \" \";\n",
    "    } \n",
    "\n",
    "    buffer.clear();\n",
    "    regex price(\"price-template__text[^>]+>([^<]+)</span>\");\n",
    "    findMatches(page, price, buffer, 1);\n",
    "    if(buffer.size()>0){\n",
    "        productPrice = buffer[0];\n",
    "    }\n",
    "    else{\n",
    "        productPrice = \"0\";\n",
    "    } \n",
    "    \n",
    "    buffer.clear();\n",
    "    regex parcelado(\"installmentAmount\\\": \\\" ([^\\\"]+)\");\n",
    "    findMatches(page, parcelado, buffer, 1);\n",
    "    if(buffer.size()>0){\n",
    "        precoParcelado = buffer[0];\n",
    "    }\n",
    "    else{\n",
    "        precoParcelado = \"0\";\n",
    "    } \n",
    "\n",
    "    buffer.clear();\n",
    "    regex numparcelas(\"installmentQuantity\\\": \\\"([^\\\"]+)\");\n",
    "    findMatches(page, numparcelas, buffer, 1);\n",
    "    if(buffer.size()>0){\n",
    "        numeroParcelas = buffer[0];\n",
    "    }\n",
    "    else{\n",
    "        numeroParcelas = \"0\";\n",
    "    } \n",
    "\n",
    "    buffer.clear();\n",
    "    regex category(\"itemprop=\\\"item\\\"> ([^>]+)</a>  </li>  </ul>\");\n",
    "    findMatches(page, category, buffer, 1);\n",
    "    if(buffer.size()>0){\n",
    "        productCategory = buffer[0];\n",
    "    }\n",
    "    else{\n",
    "        productCategory = \" \";\n",
    "    }\n",
    "\n",
    "    string out = \n",
    "    \"  {\\n\"\n",
    "    \"    \\\"nome\\\" : \\\"\" + productName +\"\\\",\\n\"\n",
    "    \"    \\\"descricao\\\" : \\\"\" + productDescription +\"\\\",\\n\"\n",
    "    \"    \\\"foto\\\" : \\\"\" + productImage +\"\\\",\\n\"\n",
    "    \"    \\\"preco\\\" : \\\"\" + productPrice +\"\\\",\\n\"\n",
    "    \"    \\\"preco_parcelado\\\" : \\\"\" + precoParcelado +\"\\\",\\n\"\n",
    "    \"    \\\"preco_num_parcelas\\\" : \\\"\" + numeroParcelas +\"\\\",\\n\"\n",
    "    \"    \\\"categoria\\\" : \\\"\" + productCategory +\"\\\",\\n\"\n",
    "    \"    \\\"url\\\" : \\\"\" + url +\"\\\",\\n\"\n",
    "    \"  },\\n\";\n",
    "\n",
    "    return out;\n",
    "}"
   ]
  },
  {
   "cell_type": "markdown",
   "metadata": {},
   "source": [
    "### Modeleo distribuído"
   ]
  },
  {
   "cell_type": "markdown",
   "metadata": {},
   "source": [
    "A implementação do modelo paralelo possui uma lógica parecida com a do sequencial. Assim como o modelo anterior, é feito download da página com os produtos, são identificadas as urls dos produtos presentes nela e a url da página seguinte, é feito o download das paginas dos produtos, extraídas as informações necessárias e após a análise de todos os produtos faz-se o mesmo processo com a página seguinte.\n",
    "\n",
    "No entanto essa implementação é feita a partir de sistemas com memória distribuída, ou seja, são disparados vários processos em máquinas de um cluster e esses são sincronizados a partide de troca de mensagens entre eles.\n",
    "\n",
    "Assim como no sequencial, após a compilação do programa, explicado no README, o programa é executado na linha de comando como:\n",
    "\n"
   ]
  },
  {
   "cell_type": "markdown",
   "metadata": {},
   "source": [
    "    mpiexec -n p -hostfiles hosts ./crawlerDIS url_da_listagem_por_categoria"
   ]
  },
  {
   "cell_type": "markdown",
   "metadata": {},
   "source": [
    "Onde *p* é o número de processos e hosts um arquivo informando os ips das máquinas do cluster que rodaram o programa. Caso queira rodar em somente uma máquina, como em uma local, não coloque essa informação, apenas \"mpiexec -n p ./crawlerDIS url_da_listagem_por_categoria\""
   ]
  },
  {
   "cell_type": "markdown",
   "metadata": {},
   "source": [
    "O modelo distribuido foi estruturado da seguinte forma:\n",
    "\n",
    "Considerando que existem n processos rodando, o processo de número '0' é o encarregado de receber a url indicada na linha de comando e fazer o download dela. Com a string do código fonte dessa página, resultado desse download, esse processo busca pelas urls desejadas, usando regexs. Com isso ela possui a url da página seguinte e uma lista cujo cada índice é uma string que representa a url de um produto dessa página. Assim o processo 0 distribui as urls dessa lista para os processos que vão de 1 a n-2 em ordem, ou seja, a url[0] vai para o processo 1, a url[1] para o processo 2, a url[2] para o processo[3] e assim por diante. Ao enviar a url[n-3] ao processo n-2 o processo 0 \"volta para o início\" e entrega a próxima url, url[n-2], para o processo 1, a url[n-1] para o processo 2... Isso acontece até a lista de urls acabar, ou seja, até a url[m-1] for entregue para um processo. Depois disso é feito o download da url da página seguinte e esse processo se repete."
   ]
  },
  {
   "cell_type": "markdown",
   "metadata": {},
   "source": [
    "![alt text](EsquemaDIS1.png \"Title\")"
   ]
  },
  {
   "cell_type": "markdown",
   "metadata": {},
   "source": [
    "No entanto é preciso adotar também uma estratégia de como informar o fim do processo 0 para esses mesmos processos. Assim, quando não houver mais uma próxima página de produto, o processo 0 enviará para os processos de 1 a n-2 a string de finalização \"end\"."
   ]
  },
  {
   "cell_type": "markdown",
   "metadata": {},
   "source": [
    "![alt text](EsquemaDIS2.png \"Title\")"
   ]
  },
  {
   "cell_type": "markdown",
   "metadata": {},
   "source": [
    "Como o objetivo desse relatório também é analisar o desempenho do programa é importante apontar como são feitas as trocas de mensagens para que essas medições sejam feitas corretamentes. As medidas levadas em consideração nessa análise serão melhor explicadas na seção \"Análise de desempenho\", no entanto o que se é preciso saber é que precisa-se calcular o tempo gasto para fazer o download das páginas (tempo ocioso) e o número total de produtos. Esses números são cálculados ao longo do processo 0 e, após enviar a string de finalização aos processos de 1 a n-2, essas variáveis (double tempoOcioso e int numProdTotal) são enviadas ao processo n-1."
   ]
  },
  {
   "cell_type": "markdown",
   "metadata": {},
   "source": [
    "![alt text](EsquemaDIS3.png \"Title\")"
   ]
  },
  {
   "cell_type": "markdown",
   "metadata": {},
   "source": [
    "Considerendo a estrutura a cima o código do processo '0' possui o seguinte formato:"
   ]
  },
  {
   "cell_type": "raw",
   "metadata": {},
   "source": [
    "string url = argv[1];\n",
    "\n",
    "boost::mpi::environment env(argc, argv);   \n",
    "boost::mpi::communicator world;\n",
    "\n",
    "int n = world.size();\n",
    "\n",
    "if(world.rank()==0){//processo 0\n",
    "\n",
    "    vector<string> urls;\n",
    "    string productPage;\n",
    "    string nextPageUrl;\n",
    "    int numProdTotal=0;\n",
    "    int processoAtual = 1; //primeiro processo a enviar é o processo 1\n",
    "\n",
    "    high_resolution_clock::time_point t1, t2, t3;\n",
    "    duration<double> ocioso;\n",
    "    duration<double> tempoProd;\n",
    "    double tempoOcioso=0;\n",
    "\n",
    "    t1 = high_resolution_clock::now();\n",
    "        string currentPage = download(url);\n",
    "    t2 = high_resolution_clock::now();\n",
    "    ocioso = duration_cast<duration<double> >(t2 - t1);\n",
    "    if(ocioso.count()>0)tempoOcioso += ocioso.count();\n",
    "\n",
    "    int total = totalPages(currentPage);\n",
    "    for(int p=1; p<=total; p++){\n",
    "        cout << \"pagina \" << p << \"/\" << total << '\\n';\n",
    "        urls = findMatchesPages(currentPage, total, p);\n",
    "        if(urls.size()>0){\n",
    "            nextPageUrl = urls[urls.size()-1];\n",
    "            urls.pop_back();\n",
    "        }\n",
    "        else{\n",
    "            cerr << \"Erro ao carregar pagina \" << p << \"\\n\"; //Erro no site da magazineLuiza - as vezes a página sai do ar.\n",
    "            break;\n",
    "        }\n",
    "\n",
    "        for(unsigned int u=0; u<urls.size(); u++){\n",
    "            world.send(processoAtual, 0, urls[u]); //envia para o processoAtual a url[u]\n",
    "            numProdTotal+=1;\n",
    "            processoAtual+=1;\n",
    "            if(processoAtual == n-1){ //caso o processo n-2 tenha sido o último a receber a url\n",
    "                processoAtual = 1;//o próximo a receber é o processo 1\n",
    "            } \n",
    "        }\n",
    "\n",
    "        t1 = high_resolution_clock::now();\n",
    "            currentPage = download(nextPageUrl);\n",
    "        t2 = high_resolution_clock::now();\n",
    "        ocioso = duration_cast<duration<double> >(t2 - t1);\n",
    "        if(ocioso.count()>0)tempoOcioso += ocioso.count();\n",
    "    }//acabou as páginas contendo produtos\n",
    "\n",
    "    for (int p = 1; p < n-1; p++){\n",
    "        string end = (\"end\")\n",
    "        world.send(p, 0, end);//envia para os processos de 1 a n-2 a string \"end\"\n",
    "    }\n",
    "\n",
    "    world.send(n-1, 2, tempoOcioso);//envia para o processo n-1 medidas de desempenho\n",
    "    world.send(n-1, 1, numProdTotal); \n",
    "} "
   ]
  },
  {
   "cell_type": "markdown",
   "metadata": {},
   "source": [
    "Os processos de 1 a n-2 são encarregados de receber a url do produto advinda do processo 0 e fazer o download dessa página. Com a string do código fonte dessa página, resultado desse download, esse processo busca pelas informações desejadas, usando regexs. Com isso se é produzido a strign 'out' com as informações do produto no formato json. Essa string é então enviada para o processo n-1."
   ]
  },
  {
   "cell_type": "markdown",
   "metadata": {},
   "source": [
    "![alt text](EsquemaDIS4.png \"Title\")"
   ]
  },
  {
   "cell_type": "markdown",
   "metadata": {},
   "source": [
    "A estratégia para informar ao processo n-1 que os processos ps acabaram é a mesma adotada anteriormente, caso esse processo receba uma url do produto = \"end\", significando que não existem mais produtos, o processo p enviará ao processo n-1 a string de finalização \"end\""
   ]
  },
  {
   "cell_type": "markdown",
   "metadata": {},
   "source": [
    "![alt text](EsquemaDIS5.png \"Title\")"
   ]
  },
  {
   "cell_type": "markdown",
   "metadata": {},
   "source": [
    "Como no processo anterior, esses processos também calculam o tempo ocioso e, além dessa medida, calculam o tempo gasto em cada produto. No entanto, essa última informação não precisa ser passada para outros processos, somente a primeira (double tempoOcioso) é passada para o processo n-1 após o envio da string de finalização."
   ]
  },
  {
   "cell_type": "markdown",
   "metadata": {},
   "source": [
    "![alt text](EsquemaDIS6.png \"Title\")"
   ]
  },
  {
   "cell_type": "markdown",
   "metadata": {},
   "source": [
    "Desse modo a estruturação dos processo *p*s (0<p<n-1) tem o seguinte formato:"
   ]
  },
  {
   "cell_type": "raw",
   "metadata": {},
   "source": [
    "else if (world.rank()!= n-1){ //processos de 1 a n-2\n",
    "\n",
    "        high_resolution_clock::time_point t1, t2, t3;\n",
    "\n",
    "        duration<double> ocioso;\n",
    "        duration<double> tempoProd;\n",
    "        double tempoOcioso=0;\n",
    "\n",
    "        while(true){//loop para receber mensagens\n",
    "            string productPage;\n",
    "            string url;\n",
    "            world.recv(0,0,url);//recebe de processo 0 url do produto\n",
    "\n",
    "            if(url.compare(\"end\")==0){//se url for string de finalização\n",
    "                string out = \"end\";\n",
    "                world.send(n-1, 0, out);//envia para processo n-1 string \"end\"\n",
    "                world.send(n-1, 2, tempoOcioso);//envia para processo n-1 medida de desempenho tempoOcioso\n",
    "                break; // termina loop, não irá receber mais mensagens\n",
    "            }\n",
    "\n",
    "            t1 = high_resolution_clock::now();\n",
    "                productPage = download(url);\n",
    "            t2 = high_resolution_clock::now();\n",
    "            ocioso = duration_cast<duration<double> >(t2 - t1);\n",
    "            if(ocioso.count()>0)tempoOcioso += ocioso.count();            \n",
    "\n",
    "            if(productPage.size()>0){\n",
    "                string out = collectProduct(productPage, url);\n",
    "                t3 = high_resolution_clock::now();\n",
    "                tempoProd = duration_cast<duration<double> >(t3 - t1);\n",
    "                cerr << \"Tempo gasto no produto: \" << to_string(tempoProd.count())<<'\\n';\n",
    "                world.send(n-1, 0, out);//envia string out com informações do produto em formato json para processo n-1\n",
    "            }\n",
    "        } \n",
    "    }"
   ]
  },
  {
   "cell_type": "markdown",
   "metadata": {},
   "source": [
    "O processo n-1 é o encarregado de receber as informações vindas dos outros processos e juntá-las tornando-as uma informação completa. Esse processo recebe strings 'out' dos processos de 1 a n-1 e as juntam a uma string jsonFinal. Quando todos os processos enviam a string \"end\" a string jsonFinal é enviada à saída padrão. "
   ]
  },
  {
   "cell_type": "markdown",
   "metadata": {},
   "source": [
    "![alt text](EsquemaDIS7.png \"Title\")"
   ]
  },
  {
   "cell_type": "markdown",
   "metadata": {},
   "source": [
    "No entanto, é preciso lembrar que esse processo não recebe somente a string 'out', ele também recebe o double tempoOcioso de todos os outros processos e também receve o int numProdTotal do processo 0. Assim, são feitos algumas mudanças no esquema acima: quando algum processo enviar a string 'end' é preciso receber o tempoOcioso advindo dele e somar esse valor ao double tempoOciosoTotal. Outra mudança é que quando todos os processos *p* tiverem informado o seu fim é preciso receber o int numProdTotal enviado pelo processo 0 e o tempoOcioso enviado pelo mesmo e somar esse valor ao tempoOciosoTotal."
   ]
  },
  {
   "cell_type": "markdown",
   "metadata": {},
   "source": [
    "![alt text](EsquemaDIS8.png \"Title\")"
   ]
  },
  {
   "cell_type": "markdown",
   "metadata": {},
   "source": [
    "A estrutura do processo n-1 tem então o seguinte formato:"
   ]
  },
  {
   "cell_type": "raw",
   "metadata": {},
   "source": [
    "else{\n",
    "    int countEnd = 0;//contador de quantos processos ja acabaram\n",
    "    int numProdTotal;\n",
    "    int processoAtual = 1;\n",
    "    double tempoOcioso;\n",
    "    double tempoOciosoTotal=0;\n",
    "    string out;\n",
    "    string jsonFinal =\"\";\n",
    "\n",
    "    while(true){//loop para receber mensagens\n",
    "\n",
    "        world.recv(processoAtual, 0, out);//recebe string out de processos 1 a n-2\n",
    "\n",
    "        if(out.compare(\"end\")==0){//se out for string de finalização\n",
    "            countEnd+=1;//aumenta contador de processos finalizados\n",
    "            world.recv(processoAtual, 2, tempoOcioso);//recebe tempoOcioso desse processo que finalizou\n",
    "            tempoOciosoTotal+=tempoOcioso;//adiciona valor recebido a tempoOciosoTotal\n",
    "            if(countEnd>=n-2){//se todos os processos finalizaram\n",
    "                world.recv(0, 1, numProdTotal);//recebe de processo 0 numProdTotal\n",
    "                world.recv(0, 2, tempoOcioso);//recebe de processo 0 tempoOcioso\n",
    "                tempoOciosoTotal+=tempoOcioso;//adiciona valor recebido a tempoOciosoTotal\n",
    "                break;// termina loop, não irá receber mais mensagens\n",
    "            }\n",
    "        }\n",
    "\n",
    "        else{\n",
    "            jsonFinal +=out;//adiciona string out recebida a string jsonFinal\n",
    "        }\n",
    "\n",
    "        processoAtual+=1;\n",
    "        if(processoAtual == n-1){//caso o processo n-2 tenha sido o último a enviar a string out\n",
    "            processoAtual = 1;//o próximo a enviar é o processo 1\n",
    "        } \n",
    "    }\n",
    "\n",
    "    cout << jsonFinal << '\\n'; //print de jsonFinal com as informações de todos os produtos\n",
    "\n",
    "    ofstream myfile;\n",
    "    myfile.open (\"../out.txt\");//criação de arquivo com medidas de desempenho\n",
    "    myfile << tempoOciosoTotal << '\\n';\n",
    "    myfile << numProdTotal << '\\n';\n",
    "\n",
    "    total2 = high_resolution_clock::now();\n",
    "    tempoTotal = duration_cast<duration<double> >(total2 - total1);\n",
    "\n",
    "    myfile << tempoTotal.count()/numProdTotal << '\\n';\n",
    "    myfile << tempoTotal.count() << '\\n';\n",
    "    myfile.close();\n",
    "}"
   ]
  },
  {
   "cell_type": "markdown",
   "metadata": {},
   "source": [
    "### Modelo paralelo"
   ]
  },
  {
   "cell_type": "markdown",
   "metadata": {},
   "source": [
    "A implementação do modelo paralelo possui uma lógica parecida com a do sequencial. Assim como o modelo anterior, é feito download da página com os produtos, são identificadas as urls dos produtos presentes nela e a url da página seguinte, é feito o download das paginas dos produtos, extraídas as informações necessárias e após a análise de todos os produtos faz-se o mesmo processo com a página seguinte.\n",
    "\n",
    "No entanto essa implementação é dada em paralelismo por tarefas, ou seja, é preciso sincronizar tarefas que dependem parcialmente umas das outras (parte de uma tarefa depende de um resultado de outra quanto o restante é independente). Ao exercutar as partes independente de maneira paralela pode-se obter ganhos de desempenho consideráveis em processos longos."
   ]
  },
  {
   "cell_type": "markdown",
   "metadata": {},
   "source": [
    "O modelo paralelo por tarefas foi estruturado da seguinte forma:"
   ]
  },
  {
   "cell_type": "markdown",
   "metadata": {},
   "source": [
    "![alt text](EsquemaPAR1.png \"Title\")"
   ]
  },
  {
   "cell_type": "markdown",
   "metadata": {},
   "source": [
    "É possível perceber no esquema a cima que as threads compartilham de alguns recursos fazendo com que elas sejam interdependentes.\n",
    "\n",
    "A thread prodLinkCollectorThread é encarregada de fazer o download das páginas com os produtos, identificar as urls dos produtos presentes nelas e colocá-las na listofUrls. Além disso essa thread é encarregada de adquirir a url da pagina com produtos seguinte e fazer o mesmo processo, sucessivamente, até a última página dessa categoria. Desse modo, essa thread terá adicionado à listofUrls as urls de todos os produtos disponíveis naquela categoria.\n",
    "A segunda thread, prodPageCollectorThread, precisa recolher uma url da listofUrls, fazer o download dela e adicionar-la à listofPages. \n",
    "Já prodCollectorThread coleta uma pagina de listofPages, coleta as informações desejadas e as adiciona a uma string global \"finalJSON\"."
   ]
  },
  {
   "cell_type": "markdown",
   "metadata": {},
   "source": [
    "Levando em consideração essa estruturação, é possível definir multiplas threads do tipo prodPageCollectorThread fazendo com que elas rodem em paralelo.O mesmo pode acontecer com prodCollectorThread."
   ]
  },
  {
   "cell_type": "markdown",
   "metadata": {},
   "source": [
    "![alt text](EsquemaPAR2.png \"Title\")"
   ]
  },
  {
   "cell_type": "markdown",
   "metadata": {},
   "source": [
    "Como essas threads compartilham algumas estruturas, o uso de semáforos é fundamental para coordenar o acesso de cada thread a elas. Desse modo foram definidos os seguintes semáforos:"
   ]
  },
  {
   "cell_type": "raw",
   "metadata": {},
   "source": [
    "Semaphore accessListofUrls(1);\n",
    "Semaphore accessListofPages(1);\n",
    "Semaphore accessJSON(1);\n",
    "Semaphore listofUrlCount(0);\n",
    "Semaphore listofPagesCount(0);"
   ]
  },
  {
   "cell_type": "markdown",
   "metadata": {},
   "source": [
    "O primeiro controla o acesso à listofUrls, o segundo o acesso à listofPages e o tercero o acesso à string global \"finalJSON\". Já os dois últimos valem como contadores de quantidade de elementos em listofUrls e listofPages respectivamente."
   ]
  },
  {
   "cell_type": "markdown",
   "metadata": {},
   "source": [
    "Assim como no sequencial, após a compilação do programa, explicado no README, o programa é executado na linha de comando como:"
   ]
  },
  {
   "cell_type": "markdown",
   "metadata": {},
   "source": [
    "    ./crawlerPAR url_da_listagem_por_categoria numProducers numConsumers"
   ]
  },
  {
   "cell_type": "markdown",
   "metadata": {},
   "source": [
    "No qual numProducers é o número de threads do tipo prodPageCollectorThread e numConsumers é o numero de threads do tipo prodCollectorThread.\n",
    "\n",
    "As threads são definidas da seguinte forma:"
   ]
  },
  {
   "cell_type": "raw",
   "metadata": {},
   "source": [
    "string url = argv[1];\n",
    "int numProducers = atoi(argv[2]);\n",
    "int numConsumers = atoi(argv[3]);\n",
    "\n",
    "thread prodPageCollectorThread[numProducers];\n",
    "thread prodCollectorThread[numConsumers];\n",
    "\n",
    "thread prodLinkCollectorThread(produceUrls, std::ref(listofUrls), std::ref(accessListofUrls),std::ref(listofUrlCount), url, std::ref(noMoreUrls));\n",
    "\n",
    "for(int p=0; p<numProducers; p++){\n",
    "    prodPageCollectorThread[p] = thread(producePages, std::ref(listofUrls), std::ref(accessListofUrls), std::ref(listofUrlCount), std::ref(listofPages), std::ref(accessListofPages), std::ref(listofPagesCount), std::ref(noMoreUrls), std::ref(noMorePages), numProducers);\n",
    "}\n",
    "    \n",
    "for(int c=0; c<numConsumers; c++){\n",
    "    prodCollectorThread[c] = thread(consumePages,  std::ref(listofPages), std::ref(accessListofPages), std::ref(listofPagesCount), std::ref(accessJSON), std::ref(finalJSON), std::ref(noMorePages),numConsumers);\n",
    "    }\n",
    "\n",
    "prodLinkCollectorThread.join();\n",
    "\n",
    "for(int p=0; p<numProducers; p++){\n",
    "    prodPageCollectorThread[p].join();\n",
    "}\n",
    "\n",
    "for(int c=0; c<numConsumers; c++){\n",
    "    prodCollectorThread[c].join();\n",
    "}"
   ]
  },
  {
   "cell_type": "raw",
   "metadata": {},
   "source": [
    "/*FUNÇÃO de prodLinkCollectorThread - Faz o download das páginas com os produtos, identifica as urls dos produtos presentes nelas e coloca-as na listofUrls. Além disso adquire a url da pagina com produtos seguinte e fazer o mesmo processo, sucessivamente, até a última página dessa categoria.*/\n",
    "void produceUrls(list<string>& listofUrls, Semaphore& accessListofUrls, Semaphore& listofUrlCount, string url, bool& noMoreUrls){\n",
    "    list<string> urlsPage;\n",
    "    string nextPageUrl;\n",
    "    \n",
    "    string page = download(url);\n",
    "    int total = totalPages(page);\n",
    "\n",
    "    for(int p=1; p<=total; p++){\n",
    "        urlsPage = findMatchesPages(page, total, p);\n",
    "        nextPageUrl = urlsPage.back();\n",
    "        urlsPage.pop_back();\n",
    "        accessListofUrls.acquire();\n",
    "            for(auto u = urlsPage.begin(); u != urlsPage.end(); ++u){\n",
    "                listofUrls.push_back(*u);\n",
    "                listofUrlCount.release();\n",
    "            }\n",
    "        accessListofUrls.release();\n",
    "        \n",
    "        page = download(nextPageUrl);\n",
    "    }\n",
    "    noMoreUrls = true;\n",
    "}\n",
    "\n",
    "/*FUNÇÃO de prodPageCollectorThread - Recolhe uma url da listofUrls, faz o download dela e a adicionar à listofPages*/\n",
    "void producePages(list<string>&listofUrls, Semaphore& accessListofUrls, Semaphore& listofUrlCount, list<string>&listofPages, Semaphore& accessListofPages, Semaphore& listofPagesCount, bool& noMoreUrls, bool& noMorePages, int numProducers){\n",
    "    string currentProductUrl;\n",
    "    string currentProductPage;\n",
    "    bool end = false;\n",
    "    while(!end){\n",
    "        listofUrlCount.acquire();\n",
    "        accessListofUrls.acquire();\n",
    "            if(noMoreUrls && listofUrls.empty()){\n",
    "                end = true;\n",
    "            }\n",
    "            else{\n",
    "                currentProductUrl = listofUrls.front();\n",
    "                listofUrls.pop_front();\n",
    "                if(noMoreUrls && listofUrls.empty()){\n",
    "                    for(int pt=0; pt< numProducers; pt++){\n",
    "                        listofUrlCount.release();\n",
    "                    }\n",
    "                }\n",
    "            }\n",
    "        accessListofUrls.release();\n",
    "        \n",
    "        urrentProductPage = download(currentProductUrl);\n",
    "        \n",
    "        accessListofPages.acquire();\n",
    "            listofPages.push_back(currentProductPage);\n",
    "            listofPagesCount.release();\n",
    "        accessListofPages.release();\n",
    "    }\n",
    "    noMorePages = true;\n",
    "}\n",
    "\n",
    "/*FUNÇÃO de prodCollectorThread - coleta uma pagina de listofPages, coleta as informações desejadas e as adiciona a string global \"finalJSON\"*/\n",
    "void consumePages(list<string>& listofPages, Semaphore& accessListofPages, Semaphore& listofPagesCount, Semaphore& accessJSON, const string &finalJSON, bool& noMorePages, int numConsumers){\n",
    "    string currentProductPage;\n",
    "    string jsonProduct;\n",
    "    string* tempJson = const_cast<string*>(&finalJSON);\n",
    "    bool end = false;\n",
    "\n",
    "    while(!end){\n",
    "        listofPagesCount.acquire();\n",
    "        accessListofPages.acquire();\n",
    "            if(noMorePages && listofPages.empty()){\n",
    "                end = true;\n",
    "            }\n",
    "            else{\n",
    "                currentProductPage = listofPages.front();\n",
    "                listofPages.pop_front();\n",
    "                if(noMorePages && listofPages.empty()){\n",
    "                    for(int ct=0; ct< numConsumers; ct++){\n",
    "                        listofPagesCount.release();\n",
    "                    }\n",
    "                }\n",
    "            };\n",
    "        accessListofPages.release();\n",
    "        \n",
    "        jsonProduct = collectProduct(currentProductPage);\n",
    "        \n",
    "        accessJSON.acquire();\n",
    "            *tempJson = finalJSON + jsonProduct;\n",
    "        accessJSON.release();\n",
    "    }\n",
    "}"
   ]
  },
  {
   "cell_type": "markdown",
   "metadata": {},
   "source": [
    "## Análise de desempenho"
   ]
  },
  {
   "cell_type": "markdown",
   "metadata": {},
   "source": [
    "Como dito anteriormente, um dos objetivos desse projeto é comparar o desempenhos entre o crawler distribuido, paralelo e o sequencial. Para fazer essa comparação foi preciso compilar o programa usando as flags correntas. Para o modelo paralelo as seguintes flags foram usadas:"
   ]
  },
  {
   "cell_type": "markdown",
   "metadata": {},
   "source": [
    "    -lpthread -O2"
   ]
  },
  {
   "cell_type": "markdown",
   "metadata": {},
   "source": [
    "Para a sequencial a seguinte flag:"
   ]
  },
  {
   "cell_type": "markdown",
   "metadata": {},
   "source": [
    "    -O2"
   ]
  },
  {
   "cell_type": "markdown",
   "metadata": {},
   "source": [
    "Para o distribuido as seguintes flags:"
   ]
  },
  {
   "cell_type": "markdown",
   "metadata": {},
   "source": [
    "    -O2 -lboost_mpi -lboost_serialization"
   ]
  },
  {
   "cell_type": "markdown",
   "metadata": {},
   "source": [
    "Para fazer essa análise de desempenho, usou-se um cluster na aws com 7 máquinas. O tipo de instância usada nelas é t3.micro cuja especificações são as seguintes:"
   ]
  },
  {
   "cell_type": "markdown",
   "metadata": {},
   "source": [
    "![alt text](t3MicroSpecif.png \"Title\")"
   ]
  },
  {
   "cell_type": "markdown",
   "metadata": {},
   "source": [
    "E as especificações do sistema operacional dessas instâncias são as seguintes:"
   ]
  },
  {
   "cell_type": "markdown",
   "metadata": {},
   "source": [
    "    Distributor ID:\tUbuntu\n",
    "    Description:\tUbuntu 18.04.1 LTS\n",
    "    Release:\t18.04\n",
    "    Codename:\tbionic"
   ]
  },
  {
   "cell_type": "markdown",
   "metadata": {},
   "source": [
    "Para obter os tempos de simulação é preciso executar os seguintes comandos:"
   ]
  },
  {
   "cell_type": "markdown",
   "metadata": {},
   "source": [
    "    mkdir build\n",
    "    cd build\n",
    "    cmake ..\n",
    "    make\n",
    "    cd ..\n",
    "    python3 run.py"
   ]
  },
  {
   "cell_type": "markdown",
   "metadata": {},
   "source": [
    "Esses comandos compilam os arquivos com cmake e geram 3 executaveis diferentes: crawlerSEQ, crawlerPAR e crawlerDIS. Depois eles são executados com os 4 diferentes links de categorias diferentes, sendo eles: "
   ]
  },
  {
   "cell_type": "markdown",
   "metadata": {},
   "source": [
    "* https://www.magazineluiza.com.br/notebook-lenovo-ideapad/informatica/s/in/leip/\n",
    "* https://www.magazineluiza.com.br/dvd-player/tv-e-video/s/et/tvdb/\n",
    "* https://www.magazineluiza.com.br/hd-externo/informatica/s/in/hdex/\n",
    "* https://www.magazineluiza.com.br/adega/eletrodomesticos/s/ed/adeg/"
   ]
  },
  {
   "cell_type": "markdown",
   "metadata": {},
   "source": [
    "Levando em consideração as especificações das máquinas utilizadas no cluster, optou-se por rodar o crawler paralelo com 3 threads produtoras e 3 threads consumidoras, pois como visto no projeto anterior essa era a configuração mais eficiente para esse cenário.\n",
    "\n",
    "Já para o crawler distribuído, optou-se por rodar com 4 processos por máquina. Foram feitos testes rodando de 1 a 7 máquinas no cluster.\n",
    "\n",
    "Para todas essas situações foram medidos o tempo ocioso, que é o tempo total gasto esperando o download de páginas web, o tempo médio por produto, que é o tempo total de execução do programa dividido pelo total de produtos analisados, e tempo total, que é o tempo total de execução do programa.\n",
    "\n",
    "Por fim, é escrito um arquivo de saída analysis.txt com os valores dos tempos de cada categoria, para cada executável, nas situações descritas a cima, em ordem."
   ]
  },
  {
   "cell_type": "code",
   "execution_count": 152,
   "metadata": {},
   "outputs": [],
   "source": [
    "t_num_prod=[33,90,178,216]\n",
    "\n",
    "t_ocioso_seq=[47.6662,81.5548,305.4,340.358]\n",
    "t_medProd_seq=[1.51591,0.973464,1.77754,1.63987]\n",
    "t_total_seq=[50.0249,87.6118,316.402,354.212]\n",
    "\n",
    "t_ocioso_par_3_3=[58.9774,146.47,281.832,365.421]\n",
    "t_medProd_par_3_3=[0.684618,0.553316,0.534241,0.566174]\n",
    "t_total_par_3_3=[22.5924,49.7984,95.0949,122.294]\n",
    "\n",
    "t_ocioso_dis_1=[60.2152,168.18,333.796,454.519]\n",
    "t_ocioso_dis_2=[32.0191,90.0839,202.565,269.897]\n",
    "t_ocioso_dis_3=[23.04,60.1019,159.073,154.469]\n",
    "t_ocioso_dis_4=[16.9147,49.6238,105.018,124.932]\n",
    "t_ocioso_dis_5=[11.978,43.2922,77.383,109.053]\n",
    "t_ocioso_dis_6=[11.0729,37.0383,79.1058,99.3294]\n",
    "t_ocioso_dis_7=[12.0187,31.753,66.6282,82.9702]\n",
    "\n",
    "t_medProd_dis_1=[1.09389,1.02553,1.02753,1.10602]\n",
    "t_medProd_dis_2=[0.375824,0.351161,0.363493,0.393484]\n",
    "t_medProd_dis_3=[0.24852,0.217793,0.242519,0.209929]\n",
    "t_medProd_dis_4=[0.172867,0.172247,0.158582,0.151773]\n",
    "t_medProd_dis_5=[0.102936,0.142198,0.126536,0.115807]\n",
    "t_medProd_dis_6=[0.115057,0.116644,0.108899,0.110074]\n",
    "t_medProd_dis_7=[0.112312,0.0887869,0.0827885,0.0850912]\n",
    "\n",
    "t_total_dis_1=[36.0984,92.2978,182.9,238.899]\n",
    "t_total_dis_2=[12.4022,31.6045,64.7017,84.9926]\n",
    "t_total_dis_3=[8.20118,19.6013,43.896,46.6043]\n",
    "t_total_dis_4=[5.70461,15.5022,28.7034,34.3008]\n",
    "t_total_dis_5=[3.39688,12.7978,22.903,26.4039]\n",
    "t_total_dis_6=[3.79689,10.498,19.6018,25.0968]\n",
    "t_total_dis_7=[3.70629,7.99082,14.9019,19.4008]"
   ]
  },
  {
   "cell_type": "markdown",
   "metadata": {},
   "source": [
    "Com esses vetores é possível fazer uma análise visual do desempenho. A primeira análise feita é a contribuição em desempenho que cada máquina pode dar. No cluster tinha-se disponível 7 máquinas"
   ]
  },
  {
   "cell_type": "code",
   "execution_count": 153,
   "metadata": {},
   "outputs": [],
   "source": [
    "num_maq = [1,2,3,4,5,6,7]\n",
    "\n",
    "t_ocioso_dis_1_por_maquina =[]\n",
    "t_ocioso_dis_2_por_maquina =[]\n",
    "t_ocioso_dis_3_por_maquina =[]\n",
    "t_ocioso_dis_4_por_maquina =[]\n",
    "t_ocioso_dis_5_por_maquina =[]\n",
    "t_ocioso_dis_6_por_maquina =[]\n",
    "t_ocioso_dis_7_por_maquina =[]\n",
    "for n_maq in range (0, 4):\n",
    "    t_ocioso_dis_1_por_maquina.append(t_ocioso_seq[n_maq]/t_ocioso_dis_1[n_maq]/1)\n",
    "    t_ocioso_dis_2_por_maquina.append(t_ocioso_seq[n_maq]/t_ocioso_dis_2[n_maq]/2)\n",
    "    t_ocioso_dis_3_por_maquina.append(t_ocioso_seq[n_maq]/t_ocioso_dis_3[n_maq]/3)\n",
    "    t_ocioso_dis_4_por_maquina.append(t_ocioso_seq[n_maq]/t_ocioso_dis_4[n_maq]/4)\n",
    "    t_ocioso_dis_5_por_maquina.append(t_ocioso_seq[n_maq]/t_ocioso_dis_5[n_maq]/5)\n",
    "    t_ocioso_dis_6_por_maquina.append(t_ocioso_seq[n_maq]/t_ocioso_dis_6[n_maq]/6)\n",
    "    t_ocioso_dis_7_por_maquina.append(t_ocioso_seq[n_maq]/t_ocioso_dis_7[n_maq]/7)"
   ]
  },
  {
   "cell_type": "code",
   "execution_count": 154,
   "metadata": {},
   "outputs": [
    {
     "name": "stdout",
     "output_type": "stream",
     "text": [
      "\n",
      "\n",
      "                                  GANHO EM TEMPO OCIOSO POR MAQUINA\n",
      "\n",
      "\n",
      "                    Categoria c/ 33 prod  Categoria c/ 90 prod  \\\n",
      "Número de máquinas                                               \n",
      "1                               0.791597              0.484926   \n",
      "2                               0.744340              0.452660   \n",
      "3                               0.689615              0.452314   \n",
      "4                               0.704509              0.410865   \n",
      "5                               0.795896              0.376764   \n",
      "6                               0.717460              0.366984   \n",
      "7                               0.566572              0.366916   \n",
      "\n",
      "                    Categoria c/ 178 prod  Categoria c/ 216 prod  \n",
      "Número de máquinas                                                \n",
      "1                                0.914930               0.748831  \n",
      "2                                0.753832               0.630533  \n",
      "3                                0.639958               0.734469  \n",
      "4                                0.727018               0.681087  \n",
      "5                                0.789321               0.624207  \n",
      "6                                0.643442               0.571093  \n",
      "7                                0.654806               0.586025  \n"
     ]
    }
   ],
   "source": [
    "import pandas as pd\n",
    "import numpy as np\n",
    "\n",
    "data = [t_ocioso_dis_1_por_maquina, t_ocioso_dis_2_por_maquina,t_ocioso_dis_3_por_maquina,t_ocioso_dis_4_por_maquina,t_ocioso_dis_5_por_maquina,t_ocioso_dis_6_por_maquina,t_ocioso_dis_7_por_maquina]\n",
    "df = pd.DataFrame(data, columns=[\"Categoria c/ 33 prod\", \"Categoria c/ 90 prod\", \"Categoria c/ 178 prod\", \"Categoria c/ 216 prod\"])\n",
    "df.index = num_maq\n",
    "df.index.name = 'Número de máquinas'\n",
    "print('\\n')\n",
    "print(\"                                  GANHO EM TEMPO OCIOSO POR MAQUINA\")\n",
    "print('\\n')\n",
    "print(df)"
   ]
  },
  {
   "cell_type": "markdown",
   "metadata": {},
   "source": [
    "Com os dado a cima é possível perceber que a contribuição por máquina para o tempo ocioso é muito pequena"
   ]
  },
  {
   "cell_type": "code",
   "execution_count": 155,
   "metadata": {},
   "outputs": [],
   "source": [
    "t_medProd_dis_1_por_maquina =[]\n",
    "t_medProd_dis_2_por_maquina =[]\n",
    "t_medProd_dis_3_por_maquina =[]\n",
    "t_medProd_dis_4_por_maquina =[]\n",
    "t_medProd_dis_5_por_maquina =[]\n",
    "t_medProd_dis_6_por_maquina =[]\n",
    "t_medProd_dis_7_por_maquina =[]\n",
    "for n_maq in range (0, 4):\n",
    "    t_medProd_dis_1_por_maquina.append(t_medProd_seq[n_maq]/t_medProd_dis_1[n_maq]/1)\n",
    "    t_medProd_dis_2_por_maquina.append(t_medProd_seq[n_maq]/t_medProd_dis_2[n_maq]/2)\n",
    "    t_medProd_dis_3_por_maquina.append(t_medProd_seq[n_maq]/t_medProd_dis_3[n_maq]/3)\n",
    "    t_medProd_dis_4_por_maquina.append(t_medProd_seq[n_maq]/t_medProd_dis_4[n_maq]/4)\n",
    "    t_medProd_dis_5_por_maquina.append(t_medProd_seq[n_maq]/t_medProd_dis_5[n_maq]/5)\n",
    "    t_medProd_dis_6_por_maquina.append(t_medProd_seq[n_maq]/t_medProd_dis_6[n_maq]/6)\n",
    "    t_medProd_dis_7_por_maquina.append(t_medProd_seq[n_maq]/t_medProd_dis_7[n_maq]/7)"
   ]
  },
  {
   "cell_type": "code",
   "execution_count": 156,
   "metadata": {},
   "outputs": [
    {
     "name": "stdout",
     "output_type": "stream",
     "text": [
      "\n",
      "\n",
      "                                  GANHO EM TEMPO MEDIO POR PRODUTO POR MAQUINA\n",
      "\n",
      "\n",
      "                    Categoria c/ 33 prod  Categoria c/ 90 prod  \\\n",
      "Número de máquinas                                               \n",
      "1                               1.385797              0.949230   \n",
      "2                               2.016782              1.386065   \n",
      "3                               2.033250              1.489892   \n",
      "4                               2.192307              1.412890   \n",
      "5                               2.945345              1.369167   \n",
      "6                               2.195883              1.390933   \n",
      "7                               1.928187              1.566293   \n",
      "\n",
      "                    Categoria c/ 178 prod  Categoria c/ 216 prod  \n",
      "Número de máquinas                                                \n",
      "1                                1.729915               1.482677  \n",
      "2                                2.445081               2.083782  \n",
      "3                                2.443163               2.603849  \n",
      "4                                2.802241               2.701189  \n",
      "5                                2.809540               2.832074  \n",
      "6                                2.720472               2.482981  \n",
      "7                                3.067265               2.753130  \n"
     ]
    }
   ],
   "source": [
    "data = [t_medProd_dis_1_por_maquina, t_medProd_dis_2_por_maquina,t_medProd_dis_3_por_maquina,t_medProd_dis_4_por_maquina,t_medProd_dis_5_por_maquina,t_medProd_dis_6_por_maquina,t_medProd_dis_7_por_maquina]\n",
    "df = pd.DataFrame(data, columns=[\"Categoria c/ 33 prod\", \"Categoria c/ 90 prod\", \"Categoria c/ 178 prod\", \"Categoria c/ 216 prod\"])\n",
    "df.index = num_maq\n",
    "df.index.name = 'Número de máquinas'\n",
    "print('\\n')\n",
    "print(\"                                  GANHO EM TEMPO MEDIO POR PRODUTO POR MAQUINA\")\n",
    "print('\\n')\n",
    "print(df)"
   ]
  },
  {
   "cell_type": "code",
   "execution_count": 157,
   "metadata": {},
   "outputs": [],
   "source": [
    "t_total_dis_1_por_maquina =[]\n",
    "t_total_dis_2_por_maquina =[]\n",
    "t_total_dis_3_por_maquina =[]\n",
    "t_total_dis_4_por_maquina =[]\n",
    "t_total_dis_5_por_maquina =[]\n",
    "t_total_dis_6_por_maquina =[]\n",
    "t_total_dis_7_por_maquina =[]\n",
    "for n_maq in range (0, 4):\n",
    "    t_total_dis_1_por_maquina.append(t_total_seq[n_maq]/t_total_dis_1[n_maq]/1)\n",
    "    t_total_dis_2_por_maquina.append(t_total_seq[n_maq]/t_total_dis_2[n_maq]/2)\n",
    "    t_total_dis_3_por_maquina.append(t_total_seq[n_maq]/t_total_dis_3[n_maq]/3)\n",
    "    t_total_dis_4_por_maquina.append(t_total_seq[n_maq]/t_total_dis_4[n_maq]/4)\n",
    "    t_total_dis_5_por_maquina.append(t_total_seq[n_maq]/t_total_dis_5[n_maq]/5)\n",
    "    t_total_dis_6_por_maquina.append(t_total_seq[n_maq]/t_total_dis_6[n_maq]/6)\n",
    "    t_total_dis_7_por_maquina.append(t_total_seq[n_maq]/t_total_dis_7[n_maq]/7)"
   ]
  },
  {
   "cell_type": "code",
   "execution_count": 158,
   "metadata": {},
   "outputs": [
    {
     "name": "stdout",
     "output_type": "stream",
     "text": [
      "\n",
      "\n",
      "                                  GANHO EM TEMPO TOTAL POR MAQUINA\n",
      "\n",
      "\n",
      "                    Categoria c/ 33 prod  Categoria c/ 90 prod  \\\n",
      "Número de máquinas                                               \n",
      "1                               1.385793              0.949230   \n",
      "2                               2.016775              1.386065   \n",
      "3                               2.033240              1.489898   \n",
      "4                               2.192301              1.412893   \n",
      "5                               2.945344              1.369170   \n",
      "6                               2.195872              1.390928   \n",
      "7                               1.928185              1.566294   \n",
      "\n",
      "                    Categoria c/ 178 prod  Categoria c/ 216 prod  \n",
      "Número de máquinas                                                \n",
      "1                                1.729918               1.482685  \n",
      "2                                2.445083               2.083781  \n",
      "3                                2.402664               2.533472  \n",
      "4                                2.755789               2.581660  \n",
      "5                                2.762974               2.683028  \n",
      "6                                2.690246               2.352305  \n",
      "7                                3.033189               2.608228  \n"
     ]
    }
   ],
   "source": [
    "data = [t_total_dis_1_por_maquina, t_total_dis_2_por_maquina,t_total_dis_3_por_maquina,t_total_dis_4_por_maquina,t_total_dis_5_por_maquina,t_total_dis_6_por_maquina,t_total_dis_7_por_maquina]\n",
    "df = pd.DataFrame(data, columns=[\"Categoria c/ 33 prod\", \"Categoria c/ 90 prod\", \"Categoria c/ 178 prod\", \"Categoria c/ 216 prod\"])\n",
    "df.index = num_maq\n",
    "df.index.name = 'Número de máquinas'\n",
    "print('\\n')\n",
    "print(\"                                  GANHO EM TEMPO TOTAL POR MAQUINA\")\n",
    "print('\\n')\n",
    "print(df)"
   ]
  },
  {
   "cell_type": "code",
   "execution_count": 159,
   "metadata": {},
   "outputs": [],
   "source": [
    "tempo_total_por_maquina_url1 =[]\n",
    "tempo_total_por_maquina_url2 =[]\n",
    "tempo_total_por_maquina_url3 =[]\n",
    "tempo_total_por_maquina_url4 =[]\n",
    "for d in data:\n",
    "    tempo_total_por_maquina_url1.append(d[0])\n",
    "    tempo_total_por_maquina_url2.append(d[1])\n",
    "    tempo_total_por_maquina_url3.append(d[2])\n",
    "    tempo_total_por_maquina_url4.append(d[3])"
   ]
  },
  {
   "cell_type": "code",
   "execution_count": 160,
   "metadata": {},
   "outputs": [
    {
     "data": {
      "image/png": "[encoded data removed]",
      "text/plain": [
       "<Figure size 432x288 with 1 Axes>"
      ]
     },
     "metadata": {},
     "output_type": "display_data"
    }
   ],
   "source": [
    "url1, = plt.plot(num_maq, tempo_total_por_maquina_url1, 'ro-', label='33 produtos')\n",
    "url2, = plt.plot(num_maq, tempo_total_por_maquina_url2, 'bo-', label='90 produtos')\n",
    "url3, = plt.plot(num_maq, tempo_total_por_maquina_url3, 'co-', label= '178 produtos')\n",
    "url4, = plt.plot(num_maq, tempo_total_por_maquina_url4, 'go-', label= '216 produtos')\n",
    "plt.xlabel('Numero de maquinas rodando')\n",
    "plt.ylabel('Ganho por maquina')\n",
    "plt.title(\"Numero de Maquina x Ganho por Maquinas em tempo total\")\n",
    "plt.legend(handles=[url1, url2, url3, url4])\n",
    "plt.show()"
   ]
  },
  {
   "cell_type": "markdown",
   "metadata": {},
   "source": [
    "Analisando as informações a cima é possível perceber que quanto mais máquinas, maior o ganho por maquinas, tanto em tempo total quanto em tempo médio por produto. A quantidade de produto por categoria não parece interferir nos ganhos por máquina."
   ]
  },
  {
   "cell_type": "code",
   "execution_count": 161,
   "metadata": {},
   "outputs": [
    {
     "data": {
      "image/png": "[encoded data removed]",
      "text/plain": [
       "<Figure size 432x288 with 1 Axes>"
      ]
     },
     "metadata": {},
     "output_type": "display_data"
    }
   ],
   "source": [
    "seq, = plt.plot(t_num_prod, t_ocioso_seq, 'ro-', label='sequencial')\n",
    "par33, = plt.plot(t_num_prod, t_ocioso_par_3_3, 'bo-', label='paralelo 3p 3c')\n",
    "dis1, = plt.plot(t_num_prod, t_ocioso_dis_1, 'go-', label= 'distribuido 1 maquinas')\n",
    "dis2, = plt.plot(t_num_prod, t_ocioso_dis_2, 'yo-', label= 'distribuido 2 maquinas')\n",
    "dis7, = plt.plot(t_num_prod, t_ocioso_dis_7, 'co-', label= 'distribuido 7 maquinas')\n",
    "plt.xlabel('Quantidade de produtos')\n",
    "plt.ylabel('Tempo Ocioso de simulação')\n",
    "plt.title(\"Tempo Ocioso x Quantidade de Produtos\")\n",
    "plt.legend(handles=[seq, par33, dis1, dis2, dis7])\n",
    "plt.show()"
   ]
  },
  {
   "cell_type": "markdown",
   "metadata": {},
   "source": [
    "A partir do gráfico a cima é possível perceber que o tempo ocioso é pouco afetado pelos métodos de concorrência, ele se comporta do mesmo modo no três tipos de crawler"
   ]
  },
  {
   "cell_type": "code",
   "execution_count": 162,
   "metadata": {
    "scrolled": true
   },
   "outputs": [
    {
     "data": {
      "image/png": "[encoded data removed]",
      "text/plain": [
       "<Figure size 432x288 with 1 Axes>"
      ]
     },
     "metadata": {},
     "output_type": "display_data"
    }
   ],
   "source": [
    "seq, = plt.plot(t_num_prod, t_medProd_seq, 'ro-', label='sequencial')\n",
    "par33, = plt.plot(t_num_prod, t_medProd_par_3_3, 'bo-', label='paralelo 3p 3c')\n",
    "dis1, = plt.plot(t_num_prod, t_medProd_dis_1, 'go-', label= 'distribuido 1 maquinas')\n",
    "dis2, = plt.plot(t_num_prod, t_medProd_dis_2, 'yo-', label= 'distribuido 2 maquinas')\n",
    "dis7, = plt.plot(t_num_prod, t_medProd_dis_7, 'co-', label= 'distribuido 7 maquinas')\n",
    "plt.xlabel('Quantidade de produtos')\n",
    "plt.xlabel('Quantidade de produtos')\n",
    "plt.ylabel('Tempo Médio por Produto')\n",
    "plt.title(\"Tempo Médio por Produto x Quantidade de Produtos\")\n",
    "plt.legend(handles=[seq, par33, dis1, dis2, dis7])\n",
    "plt.show()"
   ]
  },
  {
   "cell_type": "markdown",
   "metadata": {},
   "source": [
    "Pela análises a cima é possível perceber que normalmente o tempo médio por produto permanece estável independente do número total de produtos sendo processados."
   ]
  },
  {
   "cell_type": "code",
   "execution_count": 163,
   "metadata": {},
   "outputs": [
    {
     "data": {
      "image/png": "[encoded data removed]",
      "text/plain": [
       "<Figure size 432x288 with 1 Axes>"
      ]
     },
     "metadata": {},
     "output_type": "display_data"
    }
   ],
   "source": [
    "seq, = plt.plot(t_num_prod, t_total_seq, 'ro-', label='sequencial')\n",
    "par33, = plt.plot(t_num_prod, t_total_par_3_3, 'bo-', label='paralelo 3p 3c')\n",
    "dis1, = plt.plot(t_num_prod, t_total_dis_1, 'go-', label= 'distribuido 1 maquinas')\n",
    "dis2, = plt.plot(t_num_prod, t_total_dis_2, 'yo-', label= 'distribuido 2 maquinas')\n",
    "dis7, = plt.plot(t_num_prod, t_total_dis_7, 'co-', label= 'distribuido 7 maquinas')\n",
    "plt.xlabel('Quantidade de produtos')\n",
    "plt.ylabel('Tempo Total de execucao')\n",
    "plt.title(\"Tempo Total de execucao x Quantidade de Produtos\")\n",
    "plt.legend(handles=[seq, par33, dis1, dis2, dis7])\n",
    "plt.show()"
   ]
  },
  {
   "cell_type": "code",
   "execution_count": 164,
   "metadata": {},
   "outputs": [
    {
     "name": "stdout",
     "output_type": "stream",
     "text": [
      "Média de ganho tempo total de paralelo (3 prod 3 cons) para seq= 2.549296557890009\n",
      "Média de ganho tempo total de distribuido (1 maquina) para seq= 1.3869063551633605\n",
      "Média de ganho tempo total de distribuido (7 maquinas) para seq= 15.987819448884398\n",
      "Média de ganho tempo total de paralelo (3 prod 3 cons) para distribuido (1 maquina)= 1.832015868915663\n",
      "Média de ganho tempo total de distribuido (7 maquinas) para paralelo (3 prod 3 cons)= 6.253147838528595\n"
     ]
    }
   ],
   "source": [
    "seq_par33_total_media=0\n",
    "seq_dis_1_total_media=0\n",
    "seq_dis_7_total_media=0\n",
    "dis_1_par33_total_media=0\n",
    "par33_dis_7_total_media=0\n",
    "count =0\n",
    "\n",
    "for i in range (0, len(t_total_seq)):\n",
    "    for i in range(0, len(t_total_par_3_3)):\n",
    "        seq_par33_total_media = seq_par33_total_media + (t_total_seq[i]/t_total_par_3_3[i])\n",
    "        seq_dis_1_total_media = seq_dis_1_total_media + (t_total_seq[i]/t_total_dis_1[i])\n",
    "        seq_dis_7_total_media = seq_dis_7_total_media + (t_total_seq[i]/t_total_dis_7[i])\n",
    "        dis_1_par33_total_media = dis_1_par33_total_media + (t_total_dis_1[i]/t_total_par_3_3[i])\n",
    "        par33_dis_7_total_media = par33_dis_7_total_media + (t_total_par_3_3[i]/t_total_dis_7[i])\n",
    "        count+=1\n",
    "        \n",
    "print(\"Média de ganho tempo total de paralelo (3 prod 3 cons) para seq= \" + str(seq_par33_total_media/count))\n",
    "print(\"Média de ganho tempo total de distribuido (1 maquina) para seq= \" + str(seq_dis_1_total_media/count))\n",
    "print(\"Média de ganho tempo total de distribuido (7 maquinas) para seq= \" + str(seq_dis_7_total_media/count))\n",
    "print(\"Média de ganho tempo total de paralelo (3 prod 3 cons) para distribuido (1 maquina)= \" + str(dis_1_par33_total_media/count))\n",
    "print(\"Média de ganho tempo total de distribuido (7 maquinas) para paralelo (3 prod 3 cons)= \" + str(par33_dis_7_total_media/count))"
   ]
  },
  {
   "cell_type": "markdown",
   "metadata": {},
   "source": [
    "Com as análises acima, percebe-se que tanto o crawler paralelo quanto o distribuido possuem ganhos significativos em relação ao sequencial. O paralelo é cerca de 2.54 vezes mais rápido que o sequencial enquanto o distribuido com 1 máquina (4 processos) é 1.38 vezes mais rápido que o sequencial. Tendo isso em vista, o paralelo com 3 threads produtoras e 3 threads consumidoras é mais rápido que o distribuido com 4 processos cerca de 1,83 vezes. No entanto, aumentanto apenas 1 máquina (total de 8 processos) o crawler distribuido se torna mais rápido que o crawler paralelo, como pode ser visto no gráfico a cima. Ao comparar o crawler distribuido mais eficiente disponivel (7 maquinas, 28 processos) com o sequencial, tem-se um ganho de quase 16 vezes, e ao compará-lo com o paralaleo 3p 3c esse distribuído é mais rápido que ele 6.25 vezes. "
   ]
  }
 ],
 "metadata": {
  "kernelspec": {
   "display_name": "Python 3",
   "language": "python",
   "name": "python3"
  },
  "language_info": {
   "codemirror_mode": {
    "name": "ipython",
    "version": 3
   },
   "file_extension": ".py",
   "mimetype": "text/x-python",
   "name": "python",
   "nbconvert_exporter": "python",
   "pygments_lexer": "ipython3",
   "version": "3.7.0"
  }
 },
 "nbformat": 4,
 "nbformat_minor": 2
}
